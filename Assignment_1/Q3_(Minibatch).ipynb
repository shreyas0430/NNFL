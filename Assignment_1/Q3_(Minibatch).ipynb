{
  "nbformat": 4,
  "nbformat_minor": 0,
  "metadata": {
    "colab": {
      "name": "Q3 (Minibatch)",
      "provenance": [],
      "collapsed_sections": []
    },
    "kernelspec": {
      "name": "python3",
      "display_name": "Python 3"
    }
  },
  "cells": [
    {
      "cell_type": "code",
      "metadata": {
        "id": "2vuoxnA-HIAA"
      },
      "source": [
        "import numpy as np\n",
        "import pandas as pd\n",
        "import matplotlib.pyplot as plt"
      ],
      "execution_count": null,
      "outputs": []
    },
    {
      "cell_type": "code",
      "metadata": {
        "id": "OVfazhO5HYyH"
      },
      "source": [
        "tr_x = '/content/drive/My Drive/NNFL/training_feature_matrix - Sheet1.csv'\n",
        "tr_y = '/content/drive/My Drive/NNFL/training_output - Sheet1.csv'\n",
        "ts_x = '/content/drive/My Drive/NNFL/test_feature_matrix - Sheet1.csv'\n",
        "ts_y = '/content/drive/My Drive/NNFL/test_output - Sheet1.csv'"
      ],
      "execution_count": null,
      "outputs": []
    },
    {
      "cell_type": "code",
      "metadata": {
        "id": "QeUpzhwsHbbQ"
      },
      "source": [
        "xtr = pd.read_csv(tr_x, header = None)\n",
        "ytr = pd.read_csv(tr_y, header = None)\n",
        "\n",
        "xts = pd.read_csv(ts_x, header = None)\n",
        "yts = pd.read_csv(ts_y, header = None)"
      ],
      "execution_count": null,
      "outputs": []
    },
    {
      "cell_type": "code",
      "metadata": {
        "id": "-5fb_Y_PHc_K"
      },
      "source": [
        "def normalize(x1, x2):\n",
        "  x = np.concatenate([x1, x2], axis=0)\n",
        "  xmean = np.mean(x)\n",
        "  xstd = np.std(x)\n",
        "  ret = (x - xmean) / (xstd)\n",
        "  return ret"
      ],
      "execution_count": null,
      "outputs": []
    },
    {
      "cell_type": "code",
      "metadata": {
        "id": "IsiJTCjHIJhr"
      },
      "source": [
        "X = normalize(xtr, xts)\n",
        "Y = normalize(ytr, yts)"
      ],
      "execution_count": null,
      "outputs": []
    },
    {
      "cell_type": "code",
      "metadata": {
        "id": "WJCjs8n2IOfw"
      },
      "source": [
        "m1 = xtr.shape[0]\n",
        "m2 = xts.shape[0]\n",
        "ones_tr = np.ones((m1, 1), dtype='float32')\n",
        "ones_ts = np.ones((m2, 1), dtype='float32')\n",
        "x_train = np.concatenate([ones_tr, X[:m1, :]], axis=1)\n",
        "x_test = np.concatenate([ones_ts, X[m1:m1+m2, :]], axis=1)\n",
        "y_train = Y[:m1]\n",
        "y_test = Y[m1:m1+m2]"
      ],
      "execution_count": null,
      "outputs": []
    },
    {
      "cell_type": "code",
      "metadata": {
        "id": "AycryLVMI5dz"
      },
      "source": [
        "def eval_loss_and_grad(w, x, y, ld):\n",
        "\n",
        "  costval = 0\n",
        "  n, m = x.shape\n",
        "  gradval = [None] * m\n",
        "\n",
        "  # finding cost value\n",
        "  for i in range(n):\n",
        "    temp = 0\n",
        "    \n",
        "    for j in range(m):\n",
        "      temp = temp + x[i][j]*w[j]\n",
        "    costval = costval + (temp - y[i])**2\n",
        "  costval = costval / (2*n)\n",
        "\n",
        "  temp = 0\n",
        "  for i in range(m):\n",
        "    temp += (w[i][0]**2)\n",
        "  temp = temp * (ld/2.0)\n",
        "\n",
        "  costval += temp\n",
        "\n",
        "\n",
        "  # finding gradient value\n",
        "  for k in range(m):\n",
        "    for i in range(n):\n",
        "      temp = 0\n",
        "      for j in range(m):\n",
        "        temp = temp + (x[i][j]*w[j])\n",
        "      temp = temp*x[i][k]\n",
        "    gradval[k] = temp + ld*w[k][0]\n",
        "      \n",
        "  gradval = np.array(gradval)\n",
        "  return costval, gradval"
      ],
      "execution_count": null,
      "outputs": []
    },
    {
      "cell_type": "code",
      "metadata": {
        "id": "hL5vBLD7KXqo"
      },
      "source": [
        "# hyperparameters\n",
        "iterations = 6000\n",
        "alpha = 0.01\n",
        "w = np.random.randn(3, 1)\n",
        "losses = []\n",
        "w1 = []\n",
        "w2 = []\n",
        "\n",
        "lambda_ = 1.0"
      ],
      "execution_count": null,
      "outputs": []
    },
    {
      "cell_type": "code",
      "metadata": {
        "id": "QzB4k0B1KpMN"
      },
      "source": [
        "for it in range(iterations):\n",
        "  lossval, gradval = eval_loss_and_grad(w, x_train, y_train, lambda_)\n",
        "  losses.append(lossval)\n",
        "  w = w - alpha*gradval\n",
        "  w1.append(w[1])\n",
        "  w2.append(w[2])"
      ],
      "execution_count": null,
      "outputs": []
    },
    {
      "cell_type": "code",
      "metadata": {
        "id": "ee0rnDcUK-YD",
        "outputId": "33fb8545-4fdc-4ee1-e5ca-d92015cb01ad",
        "colab": {
          "base_uri": "https://localhost:8080/",
          "height": 282
        }
      },
      "source": [
        "plt.plot([iter for iter in range(iterations)], [los.flatten() for los in losses])"
      ],
      "execution_count": null,
      "outputs": [
        {
          "output_type": "execute_result",
          "data": {
            "text/plain": [
              "[<matplotlib.lines.Line2D at 0x7fc99afe6c18>]"
            ]
          },
          "metadata": {
            "tags": []
          },
          "execution_count": 73
        },
        {
          "output_type": "display_data",
          "data": {
            "image/png": "[encoded data removed]",
            "text/plain": [
              "<Figure size 432x288 with 1 Axes>"
            ]
          },
          "metadata": {
            "tags": [],
            "needs_background": "light"
          }
        }
      ]
    },
    {
      "cell_type": "code",
      "metadata": {
        "id": "jsoo5A1WLj1z",
        "outputId": "e3d8268c-9c71-43cc-fc5f-d3f77523f82c",
        "colab": {
          "base_uri": "https://localhost:8080/",
          "height": 34
        }
      },
      "source": [
        "losses[-1]"
      ],
      "execution_count": null,
      "outputs": [
        {
          "output_type": "execute_result",
          "data": {
            "text/plain": [
              "array([0.4616617])"
            ]
          },
          "metadata": {
            "tags": []
          },
          "execution_count": 74
        }
      ]
    },
    {
      "cell_type": "code",
      "metadata": {
        "id": "hCF23DMXsqv0"
      },
      "source": [
        "y_pred = np.dot(x_test, w)"
      ],
      "execution_count": null,
      "outputs": []
    },
    {
      "cell_type": "code",
      "metadata": {
        "id": "tSvKZunvbcvs"
      },
      "source": [
        "n, m = y_pred.shape\n",
        "mse_error = 0\n",
        "\n",
        "for i in range(n):\n",
        "  mse_error = mse_error + (y_pred[i] - y_test[i])**2\n",
        "\n",
        "mse_error = (1.0/n)*(mse_error**(0.5))"
      ],
      "execution_count": null,
      "outputs": []
    },
    {
      "cell_type": "code",
      "metadata": {
        "id": "BX3xB_-PblLR",
        "outputId": "cf2a8a96-40ce-4c12-f8a9-c9e3b3d3544a",
        "colab": {
          "base_uri": "https://localhost:8080/",
          "height": 34
        }
      },
      "source": [
        "print(\"Mean Squared error = \" + str(mse_error[0]))"
      ],
      "execution_count": null,
      "outputs": [
        {
          "output_type": "stream",
          "text": [
            "Mean Squared error = 0.10654686463207835\n"
          ],
          "name": "stdout"
        }
      ]
    },
    {
      "cell_type": "code",
      "metadata": {
        "id": "5FoqKzw2fXKo"
      },
      "source": [
        "w_1 = [f[0] for f in w1]\n",
        "w_2 = [f[0] for f in w2]\n",
        "losses_1 = [l[0] for l in losses]"
      ],
      "execution_count": null,
      "outputs": []
    },
    {
      "cell_type": "code",
      "metadata": {
        "id": "es8OKc2vfsZc",
        "outputId": "397168a1-54cd-4346-f2ce-4d17dbbe7d59",
        "colab": {
          "base_uri": "https://localhost:8080/",
          "height": 248
        }
      },
      "source": [
        "fig = plt.figure()\n",
        "ax = fig.gca(projection='3d')\n",
        "\n",
        "# ax.set_zlim3d(1.2, 1.7)\n",
        "# ax.set_ylim3d(-1.5, -0.5)\n",
        "\n",
        "ax.set_xlabel('w1')\n",
        "ax.set_ylabel('w2')\n",
        "ax.set_zlabel('Loss value')\n",
        "\n",
        "ax.plot(w_1, w_2, losses_1)\n",
        "plt.show()"
      ],
      "execution_count": null,
      "outputs": [
        {
          "output_type": "display_data",
          "data": {
            "image/png": "[encoded data removed]",
            "text/plain": [
              "<Figure size 432x288 with 1 Axes>"
            ]
          },
          "metadata": {
            "tags": [],
            "needs_background": "light"
          }
        }
      ]
    },
    {
      "cell_type": "code",
      "metadata": {
        "id": "ovNHK4xJOMMz"
      },
      "source": [
        ""
      ],
      "execution_count": null,
      "outputs": []
    }
  ]
}