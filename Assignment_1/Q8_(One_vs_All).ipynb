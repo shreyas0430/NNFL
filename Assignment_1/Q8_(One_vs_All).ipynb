{
  "nbformat": 4,
  "nbformat_minor": 0,
  "metadata": {
    "colab": {
      "name": "Q8 (One vs All)",
      "provenance": []
    },
    "kernelspec": {
      "name": "python3",
      "display_name": "Python 3"
    }
  },
  "cells": [
    {
      "cell_type": "code",
      "metadata": {
        "id": "gea5NLhu-ivR"
      },
      "source": [
        "import numpy as np\n",
        "import pandas as pd\n",
        "import matplotlib.pyplot as plt"
      ],
      "execution_count": null,
      "outputs": []
    },
    {
      "cell_type": "code",
      "metadata": {
        "id": "iPDgMxSB--hR"
      },
      "source": [
        "path = '/content/drive/My Drive/NNFL/data4.xlsx'\n",
        "data = pd.read_excel(path, header = None)\n",
        "data = np.array(data)\n",
        "np.random.shuffle(data)"
      ],
      "execution_count": null,
      "outputs": []
    },
    {
      "cell_type": "code",
      "metadata": {
        "id": "VsmMHR3v_WhL"
      },
      "source": [
        "def normalise(x):\n",
        "  xmean = np.mean(x, axis=1).reshape(x.shape[0], 1)\n",
        "  xstd = np.std(x, axis=1).reshape(x.shape[0], 1)\n",
        "  z = (x-xmean)/xstd\n",
        "  return z"
      ],
      "execution_count": null,
      "outputs": []
    },
    {
      "cell_type": "code",
      "metadata": {
        "id": "CnDGjYfj_dQ4"
      },
      "source": [
        "N, M = data.shape\n",
        "\n",
        "ones = np.ones((N, 1), dtype='float32')\n",
        "\n",
        "X = data[:, :M-1]\n",
        "X = np.concatenate([ones, X], axis=1)\n",
        "Y = data[:, M-1:]\n",
        "\n",
        "N, M = data.shape"
      ],
      "execution_count": null,
      "outputs": []
    },
    {
      "cell_type": "code",
      "metadata": {
        "id": "ivUgsYYY__GN"
      },
      "source": [
        "X = normalise(X)"
      ],
      "execution_count": null,
      "outputs": []
    },
    {
      "cell_type": "code",
      "metadata": {
        "id": "N5mDBK7tDNs6"
      },
      "source": [
        "tr_ratio = 0.6\n",
        "num_tr = int (N * tr_ratio)\n",
        "x_train = X[:num_tr, :]\n",
        "x_test = X[num_tr:, :]\n",
        "y_train = Y[:num_tr, :]\n",
        "y_test = Y[num_tr:, :]"
      ],
      "execution_count": null,
      "outputs": []
    },
    {
      "cell_type": "code",
      "metadata": {
        "id": "TmNbyp7vAA20"
      },
      "source": [
        "def model(w, x, y, iterations, alpha):\n",
        "  delta = 0.01\n",
        "  costs = []\n",
        "  grads = []\n",
        "\n",
        "  for iter in range(iterations):\n",
        "    \n",
        "    pred = np.dot(w, x.T)\n",
        "    pred = sigmoid(pred)\n",
        "\n",
        "    dp = x_train.shape[0]\n",
        "\n",
        "    costval = (-1.0 / dp) * (np.sum(np.multiply(y, np.log(pred+delta)) + np.multiply(1.0-y, np.log(1.0 - pred+delta)), axis=1))\n",
        "    costs.append(costval)\n",
        "\n",
        "    gradval = np.dot((pred - y), x)\n",
        "    grads.append(gradval)\n",
        "\n",
        "    w = w - alpha*gradval\n",
        "    \n",
        "  return costs, grads, w"
      ],
      "execution_count": null,
      "outputs": []
    },
    {
      "cell_type": "code",
      "metadata": {
        "id": "cU-X6uchGnmz"
      },
      "source": [
        "def sigmoid(z):\n",
        "  return 1.0 / (1 + np.exp(-z))"
      ],
      "execution_count": null,
      "outputs": []
    },
    {
      "cell_type": "code",
      "metadata": {
        "id": "3MryFF-HDFUv"
      },
      "source": [
        "# model 1\n",
        "# 1 is positive, 2 and 3 are negative\n",
        "\n",
        "alpha = 0.1\n",
        "iterations = 6000\n",
        "w = np.random.randn(1, x_train.shape[1])\n",
        "\n",
        "xp = []\n",
        "yp = []\n",
        "\n",
        "n, m = x_train.shape\n",
        "\n",
        "for i in range(n):\n",
        "  xp.append(x_train[i])  \n",
        "  if (y_train[i][0] == 1):\n",
        "    yp.append(1)\n",
        "  else:\n",
        "    yp.append(0)\n",
        "\n",
        "xp = np.array(xp)\n",
        "yp = np.array(yp)\n",
        "\n",
        "costs1, grads1, w1 = model(w, xp, yp, iterations, alpha)"
      ],
      "execution_count": null,
      "outputs": []
    },
    {
      "cell_type": "code",
      "metadata": {
        "id": "m6tjhhPLHEB3",
        "outputId": "a16d3852-e74f-46bc-8119-f36d89a76532",
        "colab": {
          "base_uri": "https://localhost:8080/",
          "height": 34
        }
      },
      "source": [
        "costs1[-1]"
      ],
      "execution_count": null,
      "outputs": [
        {
          "output_type": "execute_result",
          "data": {
            "text/plain": [
              "array([1.43911007])"
            ]
          },
          "metadata": {
            "tags": []
          },
          "execution_count": 264
        }
      ]
    },
    {
      "cell_type": "code",
      "metadata": {
        "id": "5IU3FgC7FpzQ"
      },
      "source": [
        "alpha = 0.1\n",
        "iterations = 10000\n",
        "w = np.random.randn(1, x_train.shape[1])\n",
        "\n",
        "\n",
        "# model 2\n",
        "# 2 is positive, 1 and 3 are negative\n",
        "xp = []\n",
        "yp = []\n",
        "\n",
        "n, m = x_train.shape\n",
        "\n",
        "for i in range(n):\n",
        "  xp.append(x_train[i])  \n",
        "  if (y_train[i][0] == 2):\n",
        "    yp.append(1)\n",
        "  else:\n",
        "    yp.append(0)\n",
        "\n",
        "xp = np.array(xp)\n",
        "yp = np.array(yp)\n",
        "\n",
        "costs2, grads2, w2 = model(w, xp, yp, iterations, alpha)"
      ],
      "execution_count": null,
      "outputs": []
    },
    {
      "cell_type": "code",
      "metadata": {
        "id": "Z8BezH3oJoJ7",
        "outputId": "08819c81-ee29-433e-a6b5-464524622aea",
        "colab": {
          "base_uri": "https://localhost:8080/",
          "height": 34
        }
      },
      "source": [
        "costs2[-1]"
      ],
      "execution_count": null,
      "outputs": [
        {
          "output_type": "execute_result",
          "data": {
            "text/plain": [
              "array([1.63098141])"
            ]
          },
          "metadata": {
            "tags": []
          },
          "execution_count": 256
        }
      ]
    },
    {
      "cell_type": "code",
      "metadata": {
        "id": "7wljEA3IG-oL"
      },
      "source": [
        "alpha = 0.01\n",
        "iterations = 10000\n",
        "w = np.random.randn(1, x_train.shape[1])"
      ],
      "execution_count": null,
      "outputs": []
    },
    {
      "cell_type": "code",
      "metadata": {
        "id": "_kPuqkwsFLNy"
      },
      "source": [
        "# model 3\n",
        "# 3 is positive, 1 and 2 are negative\n",
        "xp = []\n",
        "yp = []\n",
        "\n",
        "n, m = x_train.shape\n",
        "\n",
        "for i in range(n):\n",
        "  xp.append(x_train[i])  \n",
        "  if (y_train[i][0] == 3):\n",
        "    yp.append(1)\n",
        "  else:\n",
        "    yp.append(0)\n",
        "\n",
        "xp = np.array(xp)\n",
        "yp = np.array(yp)\n",
        "\n",
        "costs3, grads3, w3 = model(w, xp, yp, iterations, alpha)"
      ],
      "execution_count": null,
      "outputs": []
    },
    {
      "cell_type": "code",
      "metadata": {
        "id": "-S3kqKtzFMKP",
        "outputId": "6673b7f6-cae3-419f-dd48-7a734cf0bf47",
        "colab": {
          "base_uri": "https://localhost:8080/",
          "height": 34
        }
      },
      "source": [
        "costs3[-1]"
      ],
      "execution_count": null,
      "outputs": [
        {
          "output_type": "execute_result",
          "data": {
            "text/plain": [
              "array([0.53512523])"
            ]
          },
          "metadata": {
            "tags": []
          },
          "execution_count": 259
        }
      ]
    },
    {
      "cell_type": "code",
      "metadata": {
        "id": "YLiTD3a3KBEB",
        "outputId": "c7ce11c8-e3c7-4ff3-a185-fa059acb0dfc",
        "colab": {
          "base_uri": "https://localhost:8080/",
          "height": 85
        }
      },
      "source": [
        "pred1 = sigmoid(np.dot(w1, x_test.T))[0]\n",
        "\n",
        "# for model1\n",
        "n, m = x_test.shape\n",
        "\n",
        "tp = 0\n",
        "fp = 0\n",
        "tn = 0\n",
        "fn = 0\n",
        "classnum = 1\n",
        "\n",
        "\n",
        "for i in range(n):\n",
        "  if (pred1[i] >= 0.5):\n",
        "    pred1[i] = 0.0\n",
        "  else:\n",
        "    pred1[i] = 1.0\n",
        "\n",
        "\n",
        "for i in range(n):\n",
        "  if (y_test[i] == classnum):\n",
        "    if (pred1[i] == classnum):\n",
        "      tp += 1\n",
        "    else:\n",
        "      fn += 1\n",
        "\n",
        "  else:\n",
        "    if (pred1[i] == classnum):\n",
        "      fp += 1\n",
        "    else:\n",
        "      tn += 1\n",
        "\n",
        "# accuracy\n",
        "acc = (tp + tn) / (tp + tn + fp + fn)\n",
        "\n",
        "# sensitivity\n",
        "sen = tp / (tp + fn)\n",
        "\n",
        "# specificity\n",
        "spec = tn / (tn + fp)\n",
        "\n",
        "print(\"For Model 1:\")\n",
        "print(\"Accuracy = \" + str(acc))\n",
        "print(\"Sensitivity = \" + str(sen))\n",
        "print(\"Specificity = \" + str(spec))"
      ],
      "execution_count": null,
      "outputs": [
        {
          "output_type": "stream",
          "text": [
            "For Model 1:\n",
            "Accuracy = 0.6666666666666666\n",
            "Sensitivity = 0.0\n",
            "Specificity = 1.0\n"
          ],
          "name": "stdout"
        }
      ]
    },
    {
      "cell_type": "code",
      "metadata": {
        "id": "-pkmUt2_KsF9",
        "outputId": "7b02ef94-3624-4376-abb2-50c71bfecb70",
        "colab": {
          "base_uri": "https://localhost:8080/",
          "height": 85
        }
      },
      "source": [
        "pred2 = sigmoid(np.dot(w2, x_test.T))[0]\n",
        "\n",
        "# for model2\n",
        "n, m = x_test.shape\n",
        "\n",
        "tp = 0\n",
        "fp = 0\n",
        "tn = 0\n",
        "fn = 0\n",
        "classnum = 2\n",
        "\n",
        "\n",
        "for i in range(n):\n",
        "  if (pred2[i] >= 0.5):\n",
        "    pred2[i] = 0.0\n",
        "  else:\n",
        "    pred2[i] = 1.0\n",
        "\n",
        "\n",
        "for i in range(n):\n",
        "  if (y_test[i] == classnum):\n",
        "    if (pred2[i] == classnum):\n",
        "      tp += 1\n",
        "    else:\n",
        "      fn += 1\n",
        "\n",
        "  else:\n",
        "    if (pred2[i] == classnum):\n",
        "      fp += 1\n",
        "    else:\n",
        "      tn += 1\n",
        "\n",
        "# accuracy\n",
        "acc = (tp + tn) / (tp + tn + fp + fn)\n",
        "\n",
        "# sensitivity\n",
        "sen = tp / (tp + fn)\n",
        "\n",
        "# specificity\n",
        "spec = tn / (tn + fp)\n",
        "\n",
        "print(\"For Model 2:\")\n",
        "print(\"Accuracy = \" + str(acc))\n",
        "print(\"Sensitivity = \" + str(sen))\n",
        "print(\"Specificity = \" + str(spec))"
      ],
      "execution_count": null,
      "outputs": [
        {
          "output_type": "stream",
          "text": [
            "For Model 2:\n",
            "Accuracy = 0.7\n",
            "Sensitivity = 0.0\n",
            "Specificity = 1.0\n"
          ],
          "name": "stdout"
        }
      ]
    },
    {
      "cell_type": "code",
      "metadata": {
        "id": "UdXVr35OKs8I",
        "outputId": "10914e9e-5298-4afc-e1db-0d5a20b6af19",
        "colab": {
          "base_uri": "https://localhost:8080/",
          "height": 85
        }
      },
      "source": [
        "pred3 = sigmoid(np.dot(w3, x_test.T))[0]\n",
        "\n",
        "# for model3\n",
        "n, m = x_test.shape\n",
        "\n",
        "tp = 0\n",
        "fp = 0\n",
        "tn = 0\n",
        "fn = 0\n",
        "classnum = 3\n",
        "\n",
        "\n",
        "for i in range(n):\n",
        "  if (pred3[i] >= 0.5):\n",
        "    pred3[i] = 0.0\n",
        "  else:\n",
        "    pred3[i] = 1.0\n",
        "\n",
        "\n",
        "for i in range(n):\n",
        "  if (y_test[i] == classnum):\n",
        "    if (pred3[i] == classnum):\n",
        "      tp += 1\n",
        "    else:\n",
        "      fn += 1\n",
        "\n",
        "  else:\n",
        "    if (pred3[i] == classnum):\n",
        "      fp += 1\n",
        "    else:\n",
        "      tn += 1\n",
        "\n",
        "# accuracy\n",
        "acc = (tp + tn) / (tp + tn + fp + fn)\n",
        "\n",
        "# sensitivity\n",
        "sen = tp / (tp + fn)\n",
        "\n",
        "# specificity\n",
        "spec = tn / (tn + fp)\n",
        "\n",
        "print(\"For Model 3:\")\n",
        "print(\"Accuracy = \" + str(acc))\n",
        "print(\"Sensitivity = \" + str(sen))\n",
        "print(\"Specificity = \" + str(spec))"
      ],
      "execution_count": null,
      "outputs": [
        {
          "output_type": "stream",
          "text": [
            "For Model 3:\n",
            "Accuracy = 0.6333333333333333\n",
            "Sensitivity = 0.0\n",
            "Specificity = 1.0\n"
          ],
          "name": "stdout"
        }
      ]
    },
    {
      "cell_type": "code",
      "metadata": {
        "id": "mk6_gDLHMPOo"
      },
      "source": [
        ""
      ],
      "execution_count": null,
      "outputs": []
    }
  ]
}