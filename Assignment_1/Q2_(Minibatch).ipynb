{
  "nbformat": 4,
  "nbformat_minor": 0,
  "metadata": {
    "colab": {
      "name": "Q2 (Minibatch)",
      "provenance": [],
      "collapsed_sections": []
    },
    "kernelspec": {
      "name": "python3",
      "display_name": "Python 3"
    }
  },
  "cells": [
    {
      "cell_type": "code",
      "metadata": {
        "id": "9GmTd7pfYokH"
      },
      "source": [
        "import numpy as np\n",
        "import pandas as pd\n",
        "import matplotlib.pyplot as plt"
      ],
      "execution_count": null,
      "outputs": []
    },
    {
      "cell_type": "code",
      "metadata": {
        "id": "RYA3jmvaY53Y"
      },
      "source": [
        "tr_x = '/content/drive/My Drive/NNFL/training_feature_matrix - Sheet1.csv'\n",
        "tr_y = '/content/drive/My Drive/NNFL/training_output - Sheet1.csv'\n",
        "ts_x = '/content/drive/My Drive/NNFL/test_feature_matrix - Sheet1.csv'\n",
        "ts_y = '/content/drive/My Drive/NNFL/test_output - Sheet1.csv'"
      ],
      "execution_count": null,
      "outputs": []
    },
    {
      "cell_type": "code",
      "metadata": {
        "id": "WF1XplRBY_WB"
      },
      "source": [
        "xtr = pd.read_csv(tr_x, header = None)\n",
        "ytr = pd.read_csv(tr_y, header = None)\n",
        "\n",
        "xts = pd.read_csv(ts_x, header = None)\n",
        "yts = pd.read_csv(ts_y, header = None)"
      ],
      "execution_count": null,
      "outputs": []
    },
    {
      "cell_type": "code",
      "metadata": {
        "id": "_DwFeudmZFIA"
      },
      "source": [
        "def normalize(x1, x2):\n",
        "  x = np.concatenate([x1, x2], axis=0)\n",
        "  xmean = np.mean(x)\n",
        "  xstd = np.std(x)\n",
        "  ret = (x - xmean) / (xstd)\n",
        "  return ret"
      ],
      "execution_count": null,
      "outputs": []
    },
    {
      "cell_type": "code",
      "metadata": {
        "id": "wAi_er9IZZL1"
      },
      "source": [
        "X = normalize(xtr, xts)\n",
        "Y = normalize(ytr, yts)"
      ],
      "execution_count": null,
      "outputs": []
    },
    {
      "cell_type": "code",
      "metadata": {
        "id": "UGDBTlcKZepi"
      },
      "source": [
        "m1 = xtr.shape[0]\n",
        "m2 = xts.shape[0]\n",
        "tr_ones = np.ones((m1, 1), dtype='float32')\n",
        "ts_ones = np.ones((m2, 1), dtype='float32')\n",
        "x_train = np.concatenate([tr_ones, X[:m1, :]], axis=1)\n",
        "x_test = np.concatenate([ts_ones, X[m1:m1+m2, :]], axis=1)\n",
        "y_train = Y[:m1, :]\n",
        "y_test = Y[m1:m1+m2, :]"
      ],
      "execution_count": null,
      "outputs": []
    },
    {
      "cell_type": "code",
      "metadata": {
        "id": "pW9T56UjaB1C"
      },
      "source": [
        "# def eval_loss_and_grad(w, x, y):\n",
        "#   m = x.shape[0]\n",
        "#   p = np.dot(x, w) - y\n",
        "#   loss = (1/(2*m)) * np.dot(p.T, p)\n",
        "#   grad = (1/m) * np.dot(x.T, p)\n",
        "#   return loss, grad\n",
        "\n",
        "def eval_loss_and_grad(w, x, y):\n",
        "  # n = x.shape[0]\n",
        "  # p = np.dot(x, w) - y\n",
        "  # lossfnval = (1 / (2*n)) * np.dot(p.T, p)\n",
        "  # gradval = (1 / n) * np.dot(x.T, p)\n",
        "  # return gradval, lossfnval\n",
        "\n",
        "  costval = 0\n",
        "  n, m = x.shape\n",
        "  gradval = [None] * m\n",
        "\n",
        "  # finding cost value\n",
        "  for i in range(n):\n",
        "    temp = 0\n",
        "    \n",
        "    for j in range(m):\n",
        "      temp = temp + x[i][j]*w[j]\n",
        "    costval = costval + (temp - y[i])**2\n",
        "  costval = costval / (2*n)\n",
        "\n",
        "\n",
        "\n",
        "  # finding gradient value\n",
        "  for k in range(m):\n",
        "    for i in range(n):\n",
        "      temp = 0\n",
        "      for j in range(m):\n",
        "        temp = temp + (x[i][j]*w[j])\n",
        "      temp = temp*x[i][k]\n",
        "    gradval[k] = temp\n",
        "      \n",
        "  gradval = np.array(gradval)\n",
        "  return costval, gradval"
      ],
      "execution_count": null,
      "outputs": []
    },
    {
      "cell_type": "code",
      "metadata": {
        "id": "D_IXxrf1akx4"
      },
      "source": [
        "# hyperparameters\n",
        "iterations = 4000\n",
        "alpha = 0.01\n",
        "losses = []\n",
        "minibatch_size = 49\n",
        "w = np.random.randn(3, 1)\n",
        "w1 = []\n",
        "w2 = []\n",
        "ws = []"
      ],
      "execution_count": null,
      "outputs": []
    },
    {
      "cell_type": "code",
      "metadata": {
        "id": "tmGNJcENaurk"
      },
      "source": [
        "for iter in range(iterations):\n",
        "  losstotal = 0.0\n",
        "  gradtotal = 0.0\n",
        "  np.random.shuffle(x_train)\n",
        "  for batchnum in range(int(m1/minibatch_size)):\n",
        "    x = x_train[(batchnum * minibatch_size):((batchnum+1) * minibatch_size), :]\n",
        "    y = y_train[(batchnum * minibatch_size):((batchnum+1) * minibatch_size), :]\n",
        "    loss, grad = eval_loss_and_grad(w, x, y)\n",
        "    losstotal += loss\n",
        "    gradtotal += grad\n",
        "  avggrad = gradtotal/minibatch_size\n",
        "  w = w - avggrad*alpha\n",
        "  avgloss = losstotal / minibatch_size\n",
        "  losses.append(avgloss)\n",
        "  w1.append(w[1])\n",
        "  w2.append(w[2])"
      ],
      "execution_count": null,
      "outputs": []
    },
    {
      "cell_type": "code",
      "metadata": {
        "id": "1SemU8UucDw1",
        "outputId": "f92409c5-8947-4126-bc13-8812365cbfb2",
        "colab": {
          "base_uri": "https://localhost:8080/",
          "height": 282
        }
      },
      "source": [
        "plt.plot([i for i in range(len(losses))], [i.flatten() for i in losses])"
      ],
      "execution_count": null,
      "outputs": [
        {
          "output_type": "execute_result",
          "data": {
            "text/plain": [
              "[<matplotlib.lines.Line2D at 0x7f7612673f60>]"
            ]
          },
          "metadata": {
            "tags": []
          },
          "execution_count": 10
        },
        {
          "output_type": "display_data",
          "data": {
            "image/png": "[encoded data removed]",
            "text/plain": [
              "<Figure size 432x288 with 1 Axes>"
            ]
          },
          "metadata": {
            "tags": [],
            "needs_background": "light"
          }
        }
      ]
    },
    {
      "cell_type": "code",
      "metadata": {
        "id": "rQu2rZdxcWW4",
        "outputId": "1ed82339-3548-46ff-8992-63b51c23bf15",
        "colab": {
          "base_uri": "https://localhost:8080/",
          "height": 34
        }
      },
      "source": [
        "losses[-1]"
      ],
      "execution_count": null,
      "outputs": [
        {
          "output_type": "execute_result",
          "data": {
            "text/plain": [
              "array([0.05853626])"
            ]
          },
          "metadata": {
            "tags": []
          },
          "execution_count": 11
        }
      ]
    },
    {
      "cell_type": "code",
      "metadata": {
        "id": "hCF23DMXsqv0"
      },
      "source": [
        "y_pred = np.dot(x_test, w)"
      ],
      "execution_count": null,
      "outputs": []
    },
    {
      "cell_type": "code",
      "metadata": {
        "id": "tSvKZunvbcvs"
      },
      "source": [
        "n, m = y_pred.shape\n",
        "mse_error = 0\n",
        "\n",
        "for i in range(n):\n",
        "  mse_error = mse_error + (y_pred[i] - y_test[i])**2\n",
        "\n",
        "mse_error = (1.0/n)*(mse_error**(0.5))"
      ],
      "execution_count": null,
      "outputs": []
    },
    {
      "cell_type": "code",
      "metadata": {
        "id": "BX3xB_-PblLR",
        "outputId": "2b666224-d3b5-4c4e-9f6b-05a2a275c9af",
        "colab": {
          "base_uri": "https://localhost:8080/",
          "height": 34
        }
      },
      "source": [
        "print(\"Mean Squared error = \" + str(mse_error[0]))"
      ],
      "execution_count": null,
      "outputs": [
        {
          "output_type": "stream",
          "text": [
            "Mean Squared error = 0.08060260457973306\n"
          ],
          "name": "stdout"
        }
      ]
    },
    {
      "cell_type": "code",
      "metadata": {
        "id": "5FoqKzw2fXKo"
      },
      "source": [
        "w_1 = [f[0] for f in w1]\n",
        "w_2 = [f[0] for f in w2]\n",
        "losses_1 = [l[0] for l in losses]"
      ],
      "execution_count": null,
      "outputs": []
    },
    {
      "cell_type": "code",
      "metadata": {
        "id": "es8OKc2vfsZc",
        "outputId": "ef64456d-ed6c-4e82-9b18-99408bf36a1e",
        "colab": {
          "base_uri": "https://localhost:8080/",
          "height": 248
        }
      },
      "source": [
        "fig = plt.figure()\n",
        "ax = fig.gca(projection='3d')\n",
        "\n",
        "# ax.set_zlim3d(1.2, 1.7)\n",
        "# ax.set_ylim3d(-1.5, -0.5)\n",
        "\n",
        "ax.set_xlabel('w1')\n",
        "ax.set_ylabel('w2')\n",
        "ax.set_zlabel('Loss value')\n",
        "\n",
        "ax.plot(w_1, w_2, losses_1)\n",
        "plt.show()"
      ],
      "execution_count": null,
      "outputs": [
        {
          "output_type": "display_data",
          "data": {
            "image/png": "[encoded data removed]",
            "text/plain": [
              "<Figure size 432x288 with 1 Axes>"
            ]
          },
          "metadata": {
            "tags": [],
            "needs_background": "light"
          }
        }
      ]
    },
    {
      "cell_type": "code",
      "metadata": {
        "id": "YYukZxP2lCRd"
      },
      "source": [
        ""
      ],
      "execution_count": null,
      "outputs": []
    }
  ]
}