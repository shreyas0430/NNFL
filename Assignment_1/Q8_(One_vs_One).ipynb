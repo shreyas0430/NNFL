{
  "nbformat": 4,
  "nbformat_minor": 0,
  "metadata": {
    "colab": {
      "name": "Q8 (One vs One)",
      "provenance": []
    },
    "kernelspec": {
      "name": "python3",
      "display_name": "Python 3"
    }
  },
  "cells": [
    {
      "cell_type": "code",
      "metadata": {
        "id": "gea5NLhu-ivR"
      },
      "source": [
        "import numpy as np\n",
        "import pandas as pd\n",
        "import matplotlib.pyplot as plt"
      ],
      "execution_count": null,
      "outputs": []
    },
    {
      "cell_type": "code",
      "metadata": {
        "id": "iPDgMxSB--hR"
      },
      "source": [
        "path = '/content/drive/My Drive/NNFL/data4.xlsx'\n",
        "data = pd.read_excel(path, header = None)\n",
        "data = np.array(data)\n",
        "np.random.shuffle(data)"
      ],
      "execution_count": null,
      "outputs": []
    },
    {
      "cell_type": "code",
      "metadata": {
        "id": "VsmMHR3v_WhL"
      },
      "source": [
        "def normalise(x):\n",
        "  xmean = np.mean(x, axis=1).reshape(x.shape[0], 1)\n",
        "  xstd = np.std(x, axis=1).reshape(x.shape[0], 1)\n",
        "  z = (x-xmean)/xstd\n",
        "  return z"
      ],
      "execution_count": null,
      "outputs": []
    },
    {
      "cell_type": "code",
      "metadata": {
        "id": "CnDGjYfj_dQ4"
      },
      "source": [
        "N, M = data.shape\n",
        "\n",
        "ones = np.ones((N, 1), dtype='float32')\n",
        "\n",
        "X = data[:, :M-1]\n",
        "X = np.concatenate([ones, X], axis=1)\n",
        "Y = data[:, M-1:]\n",
        "\n",
        "N, M = data.shape"
      ],
      "execution_count": null,
      "outputs": []
    },
    {
      "cell_type": "code",
      "metadata": {
        "id": "ivUgsYYY__GN"
      },
      "source": [
        "X = normalise(X)"
      ],
      "execution_count": null,
      "outputs": []
    },
    {
      "cell_type": "code",
      "metadata": {
        "id": "N5mDBK7tDNs6"
      },
      "source": [
        "tr_ratio = 0.6\n",
        "num_tr = int (N * tr_ratio)\n",
        "x_train = X[:num_tr, :]\n",
        "x_test = X[num_tr:, :]\n",
        "y_train = Y[:num_tr, :]\n",
        "y_test = Y[num_tr:, :]"
      ],
      "execution_count": null,
      "outputs": []
    },
    {
      "cell_type": "code",
      "metadata": {
        "id": "TmNbyp7vAA20"
      },
      "source": [
        "def model(w, x, y, iterations, alpha):\n",
        "  delta = 0.01\n",
        "  costs = []\n",
        "  grads = []\n",
        "\n",
        "  for iter in range(iterations):\n",
        "    \n",
        "    pred = np.dot(w, x.T)\n",
        "    pred = sigmoid(pred)\n",
        "\n",
        "    dp = x_train.shape[0]\n",
        "\n",
        "    costval = (-1.0 / dp) * (np.sum(np.multiply(y, np.log(pred+delta)) + np.multiply(1.0-y, np.log(1.0 - pred+delta)), axis=1))\n",
        "    costs.append(costval)\n",
        "\n",
        "    gradval = np.dot((pred - y), x)\n",
        "    grads.append(gradval)\n",
        "\n",
        "    w = w - alpha*gradval\n",
        "    \n",
        "  return costs, grads, w"
      ],
      "execution_count": null,
      "outputs": []
    },
    {
      "cell_type": "code",
      "metadata": {
        "id": "cU-X6uchGnmz"
      },
      "source": [
        "def sigmoid(z):\n",
        "  return 1.0 / (1 + np.exp(-z))"
      ],
      "execution_count": null,
      "outputs": []
    },
    {
      "cell_type": "code",
      "metadata": {
        "id": "JHmJNnee0l0F"
      },
      "source": [
        "# model 1\n",
        "# 1 is positive, 2 is negative\n",
        "\n",
        "alpha = 0.1\n",
        "iterations = 6000\n",
        "w = np.random.randn(1, x_train.shape[1])\n",
        "\n",
        "xp = []\n",
        "yp = []\n",
        "\n",
        "n, m = x_train.shape\n",
        "\n",
        "for i in range(n):\n",
        "\n",
        "  if (y_train[i][0] == 1):\n",
        "    xp.append(x_train[i])\n",
        "    yp.append(1)\n",
        "  elif (y_train[i][0] == 2):\n",
        "    xp.append(x_train[i])\n",
        "    yp.append(0)\n",
        "\n",
        "xp = np.array(xp)\n",
        "yp = np.array(yp)\n",
        "\n",
        "costs1, grads1, w1 = model(w, xp, yp, iterations, alpha)"
      ],
      "execution_count": null,
      "outputs": []
    },
    {
      "cell_type": "code",
      "metadata": {
        "id": "wAVw3a2702iK"
      },
      "source": [
        "# model 2\n",
        "# 2 is positive, 3 is negative\n",
        "\n",
        "alpha = 0.1\n",
        "iterations = 6000\n",
        "w = np.random.randn(1, x_train.shape[1])\n",
        "\n",
        "xp = []\n",
        "yp = []\n",
        "\n",
        "n, m = x_train.shape\n",
        "\n",
        "for i in range(n):\n",
        "    \n",
        "  if (y_train[i][0] == 2):\n",
        "    xp.append(x_train[i])\n",
        "    yp.append(1)\n",
        "  elif (y_train[i][0] == 3):\n",
        "    xp.append(x_train[i])\n",
        "    yp.append(0)\n",
        "\n",
        "xp = np.array(xp)\n",
        "yp = np.array(yp)\n",
        "\n",
        "costs2, grads2, w2 = model(w, xp, yp, iterations, alpha)"
      ],
      "execution_count": null,
      "outputs": []
    },
    {
      "cell_type": "code",
      "metadata": {
        "id": "4T2tkcfX1B7v"
      },
      "source": [
        "# model 3\n",
        "# 3 is positive, 1 is negative\n",
        "\n",
        "alpha = 0.1\n",
        "iterations = 6000\n",
        "w = np.random.randn(1, x_train.shape[1])\n",
        "\n",
        "xp = []\n",
        "yp = []\n",
        "\n",
        "n, m = x_train.shape\n",
        "\n",
        "for i in range(n):\n",
        "    \n",
        "  if (y_train[i][0] == 3):\n",
        "    xp.append(x_train[i])\n",
        "    yp.append(1)\n",
        "  elif (y_train[i][0] == 1):\n",
        "    xp.append(x_train[i])\n",
        "    yp.append(0)\n",
        "\n",
        "xp = np.array(xp)\n",
        "yp = np.array(yp)\n",
        "\n",
        "costs3, grads3, w3 = model(w, xp, yp, iterations, alpha)"
      ],
      "execution_count": null,
      "outputs": []
    },
    {
      "cell_type": "code",
      "metadata": {
        "id": "YLiTD3a3KBEB",
        "outputId": "1497bbdd-a21b-457e-9b34-1cf320b96405",
        "colab": {
          "base_uri": "https://localhost:8080/",
          "height": 85
        }
      },
      "source": [
        "# for model1\n",
        "n, m = x_test.shape\n",
        "\n",
        "testx = []\n",
        "testy = []\n",
        "\n",
        "for i in range(n):\n",
        "  if (y_test[i] == 1):\n",
        "    testy.append(1)\n",
        "    testx.append(x_test[i])\n",
        "  elif (y_test[i] == 2):\n",
        "    testy.append(0)\n",
        "    testx.append(x_test[i])\n",
        "\n",
        "testx = np.array(testx)\n",
        "testy = np.array(testy)\n",
        "\n",
        "pred1 = sigmoid(np.dot(w1, testx.T))[0]\n",
        "\n",
        "n, m = testx.shape\n",
        "\n",
        "\n",
        "tp = 0\n",
        "fp = 0\n",
        "tn = 0\n",
        "fn = 0\n",
        "\n",
        "\n",
        "for i in range(n):\n",
        "  if (pred1[i] >= 0.5):\n",
        "    pred1[i] = 1.0\n",
        "  else:\n",
        "    pred1[i] = 0.0\n",
        "\n",
        "\n",
        "for i in range(n):\n",
        "  if (testy[i] == 1):\n",
        "    if (pred1[i] == 1):\n",
        "      tp += 1\n",
        "    else:\n",
        "      fn += 1\n",
        "\n",
        "  else:\n",
        "    if (pred1[i] == 1):\n",
        "      fp += 1\n",
        "    else:\n",
        "      tn += 1\n",
        "\n",
        "# accuracy\n",
        "acc = (tp + tn) / (tp + tn + fp + fn)\n",
        "\n",
        "# sensitivity\n",
        "sen = tp / (tp + fn)\n",
        "\n",
        "# specificity\n",
        "spec = tn / (tn + fp)\n",
        "\n",
        "print(\"For Model 1:\")\n",
        "print(\"Accuracy = \" + str(acc))\n",
        "print(\"Sensitivity = \" + str(sen))\n",
        "print(\"Specificity = \" + str(spec))"
      ],
      "execution_count": null,
      "outputs": [
        {
          "output_type": "stream",
          "text": [
            "For Model 1:\n",
            "Accuracy = 0.45454545454545453\n",
            "Sensitivity = 1.0\n",
            "Specificity = 0.0\n"
          ],
          "name": "stdout"
        }
      ]
    },
    {
      "cell_type": "code",
      "metadata": {
        "id": "-pkmUt2_KsF9",
        "outputId": "8744fb15-3aeb-4fac-c9d4-8c5f4d0994a5",
        "colab": {
          "base_uri": "https://localhost:8080/",
          "height": 85
        }
      },
      "source": [
        "# for model2\n",
        "n, m = x_test.shape\n",
        "\n",
        "testx = []\n",
        "testy = []\n",
        "\n",
        "for i in range(n):\n",
        "  if (y_test[i] == 2):\n",
        "    testy.append(1)\n",
        "    testx.append(x_test[i])\n",
        "  elif (y_test[i] == 3):\n",
        "    testy.append(0)\n",
        "    testx.append(x_test[i])\n",
        "\n",
        "testx = np.array(testx)\n",
        "testy = np.array(testy)\n",
        "\n",
        "pred2 = sigmoid(np.dot(w2, testx.T))[0]\n",
        "\n",
        "n, m = testx.shape\n",
        "\n",
        "\n",
        "tp = 0\n",
        "fp = 0\n",
        "tn = 0\n",
        "fn = 0\n",
        "\n",
        "\n",
        "for i in range(n):\n",
        "  if (pred2[i] >= 0.5):\n",
        "    pred2[i] = 1.0\n",
        "  else:\n",
        "    pred2[i] = 0.0\n",
        "\n",
        "\n",
        "for i in range(n):\n",
        "  if (testy[i] == 1):\n",
        "    if (pred2[i] == 1):\n",
        "      tp += 1\n",
        "    else:\n",
        "      fn += 1\n",
        "\n",
        "  else:\n",
        "    if (pred2[i] == 1):\n",
        "      fp += 1\n",
        "    else:\n",
        "      tn += 1\n",
        "\n",
        "# accuracy\n",
        "acc = (tp + tn) / (tp + tn + fp + fn)\n",
        "\n",
        "# sensitivity\n",
        "sen = tp / (tp + fn)\n",
        "\n",
        "# specificity\n",
        "spec = tn / (tn + fp)\n",
        "\n",
        "print(\"For Model 2:\")\n",
        "print(\"Accuracy = \" + str(acc))\n",
        "print(\"Sensitivity = \" + str(sen))\n",
        "print(\"Specificity = \" + str(spec))"
      ],
      "execution_count": null,
      "outputs": [
        {
          "output_type": "stream",
          "text": [
            "For Model 2:\n",
            "Accuracy = 0.6\n",
            "Sensitivity = 1.0\n",
            "Specificity = 0.0\n"
          ],
          "name": "stdout"
        }
      ]
    },
    {
      "cell_type": "code",
      "metadata": {
        "id": "UdXVr35OKs8I",
        "outputId": "32887d4d-b395-4dd4-b0c7-e125002a91a8",
        "colab": {
          "base_uri": "https://localhost:8080/",
          "height": 85
        }
      },
      "source": [
        "# for model3\n",
        "n, m = x_test.shape\n",
        "\n",
        "testx = []\n",
        "testy = []\n",
        "\n",
        "for i in range(n):\n",
        "  if (y_test[i] == 3):\n",
        "    testy.append(1)\n",
        "    testx.append(x_test[i])\n",
        "  elif (y_test[i] == 1):\n",
        "    testy.append(0)\n",
        "    testx.append(x_test[i])\n",
        "\n",
        "testx = np.array(testx)\n",
        "testy = np.array(testy)\n",
        "\n",
        "pred3 = sigmoid(np.dot(w3, testx.T))[0]\n",
        "\n",
        "n, m = testx.shape\n",
        "\n",
        "\n",
        "tp = 0\n",
        "fp = 0\n",
        "tn = 0\n",
        "fn = 0\n",
        "\n",
        "\n",
        "for i in range(n):\n",
        "  if (pred3[i] >= 0.5):\n",
        "    pred3[i] = 1.0\n",
        "  else:\n",
        "    pred3[i] = 0.0\n",
        "\n",
        "\n",
        "for i in range(n):\n",
        "  if (testy[i] == 1):\n",
        "    if (pred3[i] == 1):\n",
        "      tp += 1\n",
        "    else:\n",
        "      fn += 1\n",
        "\n",
        "  else:\n",
        "    if (pred3[i] == 1):\n",
        "      fp += 1\n",
        "    else:\n",
        "      tn += 1\n",
        "\n",
        "# accuracy\n",
        "acc = (tp + tn) / (tp + tn + fp + fn)\n",
        "\n",
        "# sensitivity\n",
        "sen = tp / (tp + fn)\n",
        "\n",
        "# specificity\n",
        "spec = tn / (tn + fp)\n",
        "\n",
        "print(\"For Model 3:\")\n",
        "print(\"Accuracy = \" + str(acc))\n",
        "print(\"Sensitivity = \" + str(sen))\n",
        "print(\"Specificity = \" + str(spec))"
      ],
      "execution_count": null,
      "outputs": [
        {
          "output_type": "stream",
          "text": [
            "For Model 3:\n",
            "Accuracy = 0.4444444444444444\n",
            "Sensitivity = 1.0\n",
            "Specificity = 0.0\n"
          ],
          "name": "stdout"
        }
      ]
    },
    {
      "cell_type": "code",
      "metadata": {
        "id": "1_xIBVPu47HV"
      },
      "source": [
        ""
      ],
      "execution_count": null,
      "outputs": []
    }
  ]
}