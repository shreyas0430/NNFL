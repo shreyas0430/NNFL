{
  "nbformat": 4,
  "nbformat_minor": 0,
  "metadata": {
    "colab": {
      "name": "Q1 (Simple Linear Regression)",
      "provenance": [],
      "collapsed_sections": []
    },
    "kernelspec": {
      "name": "python3",
      "display_name": "Python 3"
    }
  },
  "cells": [
    {
      "cell_type": "code",
      "metadata": {
        "id": "vcdYUjcf6Llz"
      },
      "source": [
        "import numpy as np\n",
        "import matplotlib.pyplot as plt\n",
        "from mpl_toolkits.mplot3d import Axes3D\n",
        "import pandas as pd\n",
        "import seaborn as sns"
      ],
      "execution_count": null,
      "outputs": []
    },
    {
      "cell_type": "code",
      "metadata": {
        "id": "cSrSZvTz6wfa"
      },
      "source": [
        "tr_x = '/content/drive/My Drive/NNFL/training_feature_matrix - Sheet1.csv'\n",
        "tr_y = '/content/drive/My Drive/NNFL/training_output - Sheet1.csv'\n",
        "ts_x = '/content/drive/My Drive/NNFL/test_feature_matrix - Sheet1.csv'\n",
        "ts_y = '/content/drive/My Drive/NNFL/test_output - Sheet1.csv'"
      ],
      "execution_count": null,
      "outputs": []
    },
    {
      "cell_type": "code",
      "metadata": {
        "id": "L-O0hZXH7gDh"
      },
      "source": [
        "xtr = pd.read_csv(tr_x, header = None).to_numpy()\n",
        "ytr = pd.read_csv(tr_y, header = None).to_numpy()\n",
        "\n",
        "xts = pd.read_csv(ts_x, header = None).to_numpy()\n",
        "yts = pd.read_csv(ts_y, header = None).to_numpy()"
      ],
      "execution_count": null,
      "outputs": []
    },
    {
      "cell_type": "code",
      "metadata": {
        "id": "0V3eM7mSx-5v"
      },
      "source": [
        "m1 = xtr.shape[0]\n",
        "m2 = xts.shape[0]\n",
        "ones_train = np.ones((m1, 1), dtype='float32')\n",
        "ones_test = np.ones((m2, 1), dtype='float32')"
      ],
      "execution_count": null,
      "outputs": []
    },
    {
      "cell_type": "code",
      "metadata": {
        "id": "TYN9pyR-vh8D"
      },
      "source": [
        "# normalization\n",
        "def normalize(x1, x2):\n",
        "  x = np.concatenate((x1, x2), axis=0)\n",
        "  xmean = np.mean(x)\n",
        "  xstd = np.std(x)\n",
        "  ret = (x - xmean)/(xstd)  \n",
        "  return ret"
      ],
      "execution_count": null,
      "outputs": []
    },
    {
      "cell_type": "code",
      "metadata": {
        "id": "MtCjLxJvvxWC"
      },
      "source": [
        "X = normalize(xtr, xts)\n",
        "Y = normalize(ytr, yts)"
      ],
      "execution_count": null,
      "outputs": []
    },
    {
      "cell_type": "code",
      "metadata": {
        "id": "AQ3noavZxVGW"
      },
      "source": [
        "x_train_data = np.concatenate((ones_train, X[:m1,:]), axis=1)\n",
        "x_test_data = np.concatenate((ones_test, X[m1:m1+m2,:]), axis=1)\n",
        "y_train_data = Y[:m1,:]\n",
        "y_test_data = Y[m1:m1+m2,:]"
      ],
      "execution_count": null,
      "outputs": []
    },
    {
      "cell_type": "code",
      "metadata": {
        "id": "jfoW28Jqz63R"
      },
      "source": [
        "def eval_loss_and_gradient(w, x, y):\n",
        "  # n = x.shape[0]\n",
        "  # p = np.dot(x, w) - y\n",
        "  # lossfnval = (1 / (2*n)) * np.dot(p.T, p)\n",
        "  # gradval = (1 / n) * np.dot(x.T, p)\n",
        "  # return gradval, lossfnval\n",
        "\n",
        "  costval = 0\n",
        "  n, m = x.shape\n",
        "  gradval = [None] * m\n",
        "\n",
        "  # finding cost value\n",
        "  for i in range(n):\n",
        "    temp = 0\n",
        "    \n",
        "    for j in range(m):\n",
        "      temp = temp + x[i][j]*w[j]\n",
        "    costval = costval + (temp - y[i])**2\n",
        "  costval = costval / (2*n)\n",
        "\n",
        "\n",
        "\n",
        "  # finding gradient value\n",
        "  for k in range(m):\n",
        "    for i in range(n):\n",
        "      temp = 0\n",
        "      for j in range(m):\n",
        "        temp = temp + (x[i][j]*w[j])\n",
        "      temp = temp*x[i][k]\n",
        "    gradval[k] = temp\n",
        "      \n",
        "  gradval = np.array(gradval)\n",
        "  return gradval, costval"
      ],
      "execution_count": null,
      "outputs": []
    },
    {
      "cell_type": "code",
      "metadata": {
        "id": "-K3vmA3u074o"
      },
      "source": [
        "# define hyperparameters\n",
        "iterations = 6000\n",
        "alpha = 0.01\n",
        "w = np.random.randn(3, 1)\n",
        "losses = []\n",
        "w1 = []\n",
        "w2 = []\n",
        "ws = []"
      ],
      "execution_count": null,
      "outputs": []
    },
    {
      "cell_type": "code",
      "metadata": {
        "id": "mZhJ4JUg1B8_"
      },
      "source": [
        "for it in range(iterations):\n",
        "  grad, loss = eval_loss_and_gradient(w, x_train_data, y_train_data)\n",
        "  w = w - alpha*grad\n",
        "  losses.append(loss)\n",
        "  w1.append(w[1])\n",
        "  w2.append(w[2])\n",
        "  ws.append(w[1:])"
      ],
      "execution_count": null,
      "outputs": []
    },
    {
      "cell_type": "code",
      "metadata": {
        "id": "nPbu3jJ21aRU",
        "outputId": "43c3bcbf-19fb-4c27-9173-ba6c2f587f3b",
        "colab": {
          "base_uri": "https://localhost:8080/",
          "height": 282
        }
      },
      "source": [
        "plt.plot([i for i in range(iterations)][:1000], [los.flatten() for los in losses][:1000])"
      ],
      "execution_count": null,
      "outputs": [
        {
          "output_type": "execute_result",
          "data": {
            "text/plain": [
              "[<matplotlib.lines.Line2D at 0x7f9348524a58>]"
            ]
          },
          "metadata": {
            "tags": []
          },
          "execution_count": 47
        },
        {
          "output_type": "display_data",
          "data": {
            "image/png": "[encoded data removed]",
            "text/plain": [
              "<Figure size 432x288 with 1 Axes>"
            ]
          },
          "metadata": {
            "tags": [],
            "needs_background": "light"
          }
        }
      ]
    },
    {
      "cell_type": "code",
      "metadata": {
        "id": "5GdbhrXr1mTz",
        "outputId": "9e651cfb-1b98-4023-d7d7-67c498003f5c",
        "colab": {
          "base_uri": "https://localhost:8080/",
          "height": 34
        }
      },
      "source": [
        "losses[-1]"
      ],
      "execution_count": null,
      "outputs": [
        {
          "output_type": "execute_result",
          "data": {
            "text/plain": [
              "array([0.39439259])"
            ]
          },
          "metadata": {
            "tags": []
          },
          "execution_count": 48
        }
      ]
    },
    {
      "cell_type": "code",
      "metadata": {
        "id": "qXzp7tJwgz1e",
        "outputId": "66ba6552-cff3-4a25-e4ab-27b379b4ca8c",
        "colab": {
          "base_uri": "https://localhost:8080/",
          "height": 34
        }
      },
      "source": [
        "x_train_data.shape"
      ],
      "execution_count": null,
      "outputs": [
        {
          "output_type": "execute_result",
          "data": {
            "text/plain": [
              "(245, 3)"
            ]
          },
          "metadata": {
            "tags": []
          },
          "execution_count": 49
        }
      ]
    },
    {
      "cell_type": "code",
      "metadata": {
        "id": "hCF23DMXsqv0"
      },
      "source": [
        "y_pred = np.dot(x_test_data, w)"
      ],
      "execution_count": null,
      "outputs": []
    },
    {
      "cell_type": "code",
      "metadata": {
        "id": "tSvKZunvbcvs"
      },
      "source": [
        "n, m = y_pred.shape\n",
        "mse_error = 0\n",
        "\n",
        "for i in range(n):\n",
        "  mse_error = mse_error + (y_pred[i] - y_test_data[i])**2\n",
        "\n",
        "mse_error = (1.0/n)*(mse_error**(0.5))"
      ],
      "execution_count": null,
      "outputs": []
    },
    {
      "cell_type": "code",
      "metadata": {
        "id": "BX3xB_-PblLR",
        "outputId": "113fc911-2309-45f2-aee0-2056827c144b",
        "colab": {
          "base_uri": "https://localhost:8080/",
          "height": 34
        }
      },
      "source": [
        "print(\"Mean Squared error = \" + str(mse_error[0]))"
      ],
      "execution_count": null,
      "outputs": [
        {
          "output_type": "stream",
          "text": [
            "Mean Squared error = 0.11625320846792053\n"
          ],
          "name": "stdout"
        }
      ]
    },
    {
      "cell_type": "code",
      "metadata": {
        "id": "5FoqKzw2fXKo"
      },
      "source": [
        "w_1 = [f[0] for f in w1]\n",
        "w_2 = [f[0] for f in w2]\n",
        "losses_1 = [l[0] for l in losses]"
      ],
      "execution_count": null,
      "outputs": []
    },
    {
      "cell_type": "code",
      "metadata": {
        "id": "es8OKc2vfsZc",
        "outputId": "141628d3-7b9e-45ec-dfc3-8d50c7a40e72",
        "colab": {
          "base_uri": "https://localhost:8080/",
          "height": 248
        }
      },
      "source": [
        "fig = plt.figure()\n",
        "ax = fig.gca(projection='3d')\n",
        "\n",
        "# ax.set_zlim3d(1.2, 1.7)\n",
        "# ax.set_ylim3d(-1.5, -0.5)\n",
        "\n",
        "ax.set_xlabel('w1')\n",
        "ax.set_ylabel('w2')\n",
        "ax.set_zlabel('Loss value')\n",
        "\n",
        "ax.plot(w_1, w_2, losses_1)\n",
        "plt.show()"
      ],
      "execution_count": null,
      "outputs": [
        {
          "output_type": "display_data",
          "data": {
            "image/png": "[encoded data removed]",
            "text/plain": [
              "<Figure size 432x288 with 1 Axes>"
            ]
          },
          "metadata": {
            "tags": [],
            "needs_background": "light"
          }
        }
      ]
    },
    {
      "cell_type": "code",
      "metadata": {
        "id": "fpPrivKEgwZx"
      },
      "source": [
        ""
      ],
      "execution_count": null,
      "outputs": []
    }
  ]
}