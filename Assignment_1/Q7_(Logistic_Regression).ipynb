{
  "nbformat": 4,
  "nbformat_minor": 0,
  "metadata": {
    "colab": {
      "name": "Q7 (Logistic Regression)",
      "provenance": [],
      "collapsed_sections": []
    },
    "kernelspec": {
      "name": "python3",
      "display_name": "Python 3"
    }
  },
  "cells": [
    {
      "cell_type": "code",
      "metadata": {
        "id": "iMo2Ky2iUW0e"
      },
      "source": [
        "import numpy as np\n",
        "import pandas as pd\n",
        "import matplotlib.pyplot as plt"
      ],
      "execution_count": null,
      "outputs": []
    },
    {
      "cell_type": "code",
      "metadata": {
        "id": "iebDFngzW2Fu"
      },
      "source": [
        "path = '/content/drive/My Drive/NNFL/data3.xlsx'\n",
        "data = pd.read_excel(path, header = None)"
      ],
      "execution_count": null,
      "outputs": []
    },
    {
      "cell_type": "code",
      "metadata": {
        "id": "0cbGUr-mf60k"
      },
      "source": [
        "data = np.array(data)\n",
        "np.random.shuffle(data)"
      ],
      "execution_count": null,
      "outputs": []
    },
    {
      "cell_type": "code",
      "metadata": {
        "id": "qoDWQ4tic_CT"
      },
      "source": [
        "n, m = data.shape\n",
        "x = data[:, :m-1]\n",
        "y = data[:, m-1]\n",
        "x = np.array(x)\n",
        "y = np.array(y)"
      ],
      "execution_count": null,
      "outputs": []
    },
    {
      "cell_type": "code",
      "metadata": {
        "id": "zr0nDAaAdHMO"
      },
      "source": [
        "for i in range(len(y)):\n",
        "  if y[i] == 1:\n",
        "    y[i] = 0\n",
        "  else:\n",
        "    y[i] = 1"
      ],
      "execution_count": null,
      "outputs": []
    },
    {
      "cell_type": "code",
      "metadata": {
        "id": "Mgf1W48Ld9NO"
      },
      "source": [
        "def normalize(x):\n",
        "  n = x.shape[0]\n",
        "  mean = np.mean(x, axis=0, keepdims=True)\n",
        "  std = np.std(x, axis=0, keepdims=True)\n",
        "\n",
        "  ret = (x-mean)/std\n",
        "  return ret"
      ],
      "execution_count": null,
      "outputs": []
    },
    {
      "cell_type": "code",
      "metadata": {
        "id": "Ou8m_DSKeYbz"
      },
      "source": [
        "X = normalize(x)\n",
        "Y = y"
      ],
      "execution_count": null,
      "outputs": []
    },
    {
      "cell_type": "code",
      "metadata": {
        "id": "F8D1yVLvm-ph"
      },
      "source": [
        "n, m = data.shape\n",
        "training_ratio = 0.6\n",
        "train_size = int(training_ratio * n)\n",
        "test_size = int((1 - training_ratio) * n)\n",
        "\n",
        "ones = np.ones((n, 1))\n",
        "X = np.concatenate([ones, X], axis=1)"
      ],
      "execution_count": null,
      "outputs": []
    },
    {
      "cell_type": "code",
      "metadata": {
        "id": "Chep7O5ifw8J"
      },
      "source": [
        "x_train = X[:train_size].reshape(m, train_size)\n",
        "x_test = X[train_size:].reshape(m, test_size)\n",
        "y_train = Y[:train_size].reshape(1, train_size)\n",
        "y_test = Y[train_size:].reshape(1, test_size)"
      ],
      "execution_count": null,
      "outputs": []
    },
    {
      "cell_type": "code",
      "metadata": {
        "id": "hoZHK9KVgqhs",
        "outputId": "99525207-af50-4de1-acf2-a80aa3d2b3df",
        "colab": {
          "base_uri": "https://localhost:8080/",
          "height": 34
        }
      },
      "source": [
        "x_train.shape, y_train.shape"
      ],
      "execution_count": null,
      "outputs": [
        {
          "output_type": "execute_result",
          "data": {
            "text/plain": [
              "((5, 60), (1, 60))"
            ]
          },
          "metadata": {
            "tags": []
          },
          "execution_count": 73
        }
      ]
    },
    {
      "cell_type": "code",
      "metadata": {
        "id": "j_X_PB1dvNcg"
      },
      "source": [
        "def sigmoid(z):\n",
        "  return 1.0 / (1.0 + np.exp(-z))"
      ],
      "execution_count": null,
      "outputs": []
    },
    {
      "cell_type": "code",
      "metadata": {
        "id": "XGq4L7y_jxe1"
      },
      "source": [
        "def model(w, x, y, iterations, alpha):\n",
        "  delta = 0.0\n",
        "  costs = []\n",
        "  grads = []\n",
        "\n",
        "  for iter in range(iterations):\n",
        "    \n",
        "    pred = np.dot(w, x)\n",
        "    pred = sigmoid(pred)\n",
        "\n",
        "    dp = x_train.shape[0]\n",
        "\n",
        "    costval = (-1.0 / dp) * (np.sum(np.multiply(y, np.log(pred)) + np.multiply(1.0-y, np.log(1.0 - pred)), axis=1))\n",
        "    costs.append(costval)\n",
        "\n",
        "    gradval = np.dot((pred - y), x.T)\n",
        "    grads.append(gradval)\n",
        "\n",
        "    w = w - alpha*gradval\n",
        "    \n",
        "  return costs, grads, w"
      ],
      "execution_count": null,
      "outputs": []
    },
    {
      "cell_type": "code",
      "metadata": {
        "id": "xg5sx8eDjxAh"
      },
      "source": [
        "w = np.random.randn(1, m)\n",
        "alpha = 0.07\n",
        "iterations = 500\n",
        "costs = []\n",
        "grads = []"
      ],
      "execution_count": null,
      "outputs": []
    },
    {
      "cell_type": "code",
      "metadata": {
        "id": "sQLwuHACl69V"
      },
      "source": [
        "costs, grads, w = model(w, x_train, y_train, iterations, alpha)"
      ],
      "execution_count": null,
      "outputs": []
    },
    {
      "cell_type": "code",
      "metadata": {
        "id": "QTiSV7U6s-3-",
        "outputId": "84c66acc-1c3b-4f14-9feb-cc184101c6d5",
        "colab": {
          "base_uri": "https://localhost:8080/",
          "height": 34
        }
      },
      "source": [
        "costs[-1]"
      ],
      "execution_count": null,
      "outputs": [
        {
          "output_type": "execute_result",
          "data": {
            "text/plain": [
              "array([7.80007143])"
            ]
          },
          "metadata": {
            "tags": []
          },
          "execution_count": 78
        }
      ]
    },
    {
      "cell_type": "code",
      "metadata": {
        "id": "zdXhnXJ1x9_n",
        "outputId": "0d9d0fae-5eda-4f86-bf3e-7f95299730a0",
        "colab": {
          "base_uri": "https://localhost:8080/",
          "height": 282
        }
      },
      "source": [
        "plt.plot([i for i in range(1, iterations+1)], costs)"
      ],
      "execution_count": null,
      "outputs": [
        {
          "output_type": "execute_result",
          "data": {
            "text/plain": [
              "[<matplotlib.lines.Line2D at 0x7f428d5d5be0>]"
            ]
          },
          "metadata": {
            "tags": []
          },
          "execution_count": 79
        },
        {
          "output_type": "display_data",
          "data": {
            "image/png": "[encoded data removed]",
            "text/plain": [
              "<Figure size 432x288 with 1 Axes>"
            ]
          },
          "metadata": {
            "tags": [],
            "needs_background": "light"
          }
        }
      ]
    },
    {
      "cell_type": "code",
      "metadata": {
        "id": "Bbuv1BNsJa0T"
      },
      "source": [
        "y_pred = sigmoid(np.dot(w, x_test))"
      ],
      "execution_count": null,
      "outputs": []
    },
    {
      "cell_type": "code",
      "metadata": {
        "id": "p7UXh8YMu-tD"
      },
      "source": [
        "n = y_pred[0].shape[0]\n",
        "\n",
        "pred = []\n",
        "act = []\n",
        "\n",
        "for i in range(n):\n",
        "  if (y_test[0][i] >= 0.5):\n",
        "    act.append(1)\n",
        "  else:\n",
        "    act.append(0)\n",
        "\n",
        "for i in range(n):\n",
        "  if (y_pred[0][i] >= 0.5):\n",
        "    pred.append(1)\n",
        "  else:\n",
        "    pred.append(0)\n",
        "\n",
        "pred = np.array(pred)\n",
        "act = np.array(act)"
      ],
      "execution_count": null,
      "outputs": []
    },
    {
      "cell_type": "code",
      "metadata": {
        "id": "N-MKOJSkvKy2"
      },
      "source": [
        "truepos = 0\n",
        "trueneg = 0\n",
        "falsepos = 0\n",
        "falseneg = 0\n",
        "\n",
        "for i in range(n):\n",
        "  if (act[i] == 0):\n",
        "    if (pred[i] == 0):\n",
        "      trueneg += 1\n",
        "    else:\n",
        "      falsepos += 1\n",
        "  else:\n",
        "    if (pred[i] == 1):\n",
        "      truepos += 1\n",
        "    else:\n",
        "      falseneg += 1"
      ],
      "execution_count": null,
      "outputs": []
    },
    {
      "cell_type": "code",
      "metadata": {
        "id": "GKGndx-bvMw-"
      },
      "source": [
        "# accuracy\n",
        "acc = (truepos + trueneg) / (truepos + trueneg + falsepos + falseneg)\n",
        "\n",
        "# sensitivity\n",
        "sen = truepos / (truepos + falseneg)\n",
        "\n",
        "# specificity\n",
        "spec = trueneg / (trueneg + falsepos)"
      ],
      "execution_count": null,
      "outputs": []
    },
    {
      "cell_type": "code",
      "metadata": {
        "id": "nNPNeI2cwrXW",
        "outputId": "bc67e68b-79b1-4789-e6d0-fcf146be6b20",
        "colab": {
          "base_uri": "https://localhost:8080/",
          "height": 68
        }
      },
      "source": [
        "print(\"Accuracy = \" + str(acc))\n",
        "print(\"Sensitivity = \" + str(sen))\n",
        "print(\"Specificity = \" + str(spec))"
      ],
      "execution_count": null,
      "outputs": [
        {
          "output_type": "stream",
          "text": [
            "Accuracy = 0.6\n",
            "Sensitivity = 0.6190476190476191\n",
            "Specificity = 0.5789473684210527\n"
          ],
          "name": "stdout"
        }
      ]
    },
    {
      "cell_type": "code",
      "metadata": {
        "id": "zIXn3s-e2nHe"
      },
      "source": [
        ""
      ],
      "execution_count": null,
      "outputs": []
    }
  ]
}