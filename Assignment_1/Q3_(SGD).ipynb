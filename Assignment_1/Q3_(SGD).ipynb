{
  "nbformat": 4,
  "nbformat_minor": 0,
  "metadata": {
    "colab": {
      "name": "Q3 (SGD)",
      "provenance": [],
      "collapsed_sections": []
    },
    "kernelspec": {
      "name": "python3",
      "display_name": "Python 3"
    }
  },
  "cells": [
    {
      "cell_type": "code",
      "metadata": {
        "id": "_jOS8aDVPgzb"
      },
      "source": [
        "import numpy as np\n",
        "import pandas as pd\n",
        "import matplotlib.pyplot as plt\n",
        "import seaborn as sns"
      ],
      "execution_count": null,
      "outputs": []
    },
    {
      "cell_type": "code",
      "metadata": {
        "id": "LaNDDKFpWEhy"
      },
      "source": [
        "tr_x = '/content/drive/My Drive/NNFL/training_feature_matrix - Sheet1.csv'\n",
        "tr_y = '/content/drive/My Drive/NNFL/training_output - Sheet1.csv'\n",
        "ts_x = '/content/drive/My Drive/NNFL/test_feature_matrix - Sheet1.csv'\n",
        "ts_y = '/content/drive/My Drive/NNFL/test_output - Sheet1.csv'"
      ],
      "execution_count": null,
      "outputs": []
    },
    {
      "cell_type": "code",
      "metadata": {
        "id": "3xExv-eMWLwH"
      },
      "source": [
        "xtr = pd.read_csv(tr_x, header = None)\n",
        "ytr = pd.read_csv(tr_y, header = None)\n",
        "\n",
        "xts = pd.read_csv(ts_x, header = None)\n",
        "yts = pd.read_csv(ts_y, header = None)"
      ],
      "execution_count": null,
      "outputs": []
    },
    {
      "cell_type": "code",
      "metadata": {
        "id": "hCcSijjj5WPH"
      },
      "source": [
        "def normalize(x1, x2):\n",
        "  x = np.concatenate([x1, x2], axis=0)\n",
        "  xmean = np.mean(x)\n",
        "  xstd = np.std(x)\n",
        "  ret = (x - xmean) / (xstd)\n",
        "  return ret"
      ],
      "execution_count": null,
      "outputs": []
    },
    {
      "cell_type": "code",
      "metadata": {
        "id": "Y4ddxvqJ5zfi"
      },
      "source": [
        "X = normalize(xtr, xts)\n",
        "Y = normalize(ytr, yts)"
      ],
      "execution_count": null,
      "outputs": []
    },
    {
      "cell_type": "code",
      "metadata": {
        "id": "xDwRBI1V54cq"
      },
      "source": [
        "m1 = xtr.shape[0]\n",
        "m2 = xts.shape[0]\n",
        "ones_train = np.ones((m1, 1), dtype='float32')\n",
        "ones_test = np.ones((m2, 1), dtype='float32')\n",
        "x_train_data = np.concatenate([ones_train, X[:m1, :]], axis=1)\n",
        "x_test_data = np.concatenate([ones_test, X[m1:m1+m2, :]], axis=1)\n",
        "y_train_data = Y[:m1, :]\n",
        "y_test_data = Y[m1:m1+m2, :]"
      ],
      "execution_count": null,
      "outputs": []
    },
    {
      "cell_type": "code",
      "metadata": {
        "id": "URHIsi7o75Z-"
      },
      "source": [
        "def eval_loss_and_grad(w, x, y, index, ld):\n",
        "  m = x.shape[1]\n",
        "\n",
        "  val = 0\n",
        "  for i in range(m):\n",
        "    val = val + x[index][i]*w[i]\n",
        "  \n",
        "  lossval = (val - y[index])**2\n",
        "  val = 0\n",
        "\n",
        "  for i in range(m):\n",
        "    val = val + (ld/2.0)*(w[i]**2)\n",
        "\n",
        "  lossval += val\n",
        "\n",
        "\n",
        "\n",
        "  # val == h(x)\n",
        "  gradval = []\n",
        "  for i in range(m):\n",
        "    gradval.append((val - y[index])*x[index][i] + ld*w[i])\n",
        "\n",
        "  gradval = np.array(gradval)\n",
        "  return lossval, gradval"
      ],
      "execution_count": null,
      "outputs": []
    },
    {
      "cell_type": "code",
      "metadata": {
        "id": "EUGsxcQP6pDc"
      },
      "source": [
        "# hyperparameters\n",
        "iterations = 6000\n",
        "alpha = 1e-4\n",
        "w = np.random.randn(3, 1)\n",
        "losses = []\n",
        "w1 = []\n",
        "w2 = []\n",
        "\n",
        "lambda_ = 1.0"
      ],
      "execution_count": null,
      "outputs": []
    },
    {
      "cell_type": "code",
      "metadata": {
        "id": "7KgbYmOi7qG0"
      },
      "source": [
        "for it in range(iterations):\n",
        "  ls = 0\n",
        "  for i in range(m1):\n",
        "    loss, grad = eval_loss_and_grad(w, x_train_data, y_train_data, i, lambda_)\n",
        "    w = w - (1/m1)*alpha*grad\n",
        "    ls += loss\n",
        "  w1.append(w[1])\n",
        "  w2.append(w[2])\n",
        "  losses.append(ls/m1)"
      ],
      "execution_count": null,
      "outputs": []
    },
    {
      "cell_type": "code",
      "metadata": {
        "id": "8jq1GGMA-xV9",
        "outputId": "35dc54ab-5419-4d92-f991-b6fa4ff2de2d",
        "colab": {
          "base_uri": "https://localhost:8080/",
          "height": 282
        }
      },
      "source": [
        "plt.plot([i for i in range(iterations)], [los.flatten() for los in losses])"
      ],
      "execution_count": null,
      "outputs": [
        {
          "output_type": "execute_result",
          "data": {
            "text/plain": [
              "[<matplotlib.lines.Line2D at 0x7feff1f3f2b0>]"
            ]
          },
          "metadata": {
            "tags": []
          },
          "execution_count": 237
        },
        {
          "output_type": "display_data",
          "data": {
            "image/png": "[encoded data removed]",
            "text/plain": [
              "<Figure size 432x288 with 1 Axes>"
            ]
          },
          "metadata": {
            "tags": [],
            "needs_background": "light"
          }
        }
      ]
    },
    {
      "cell_type": "code",
      "metadata": {
        "id": "it75QWgtBb5T",
        "outputId": "19744f11-e690-4671-92b6-8766d286c9cf",
        "colab": {
          "base_uri": "https://localhost:8080/",
          "height": 34
        }
      },
      "source": [
        "losses[-1]"
      ],
      "execution_count": null,
      "outputs": [
        {
          "output_type": "execute_result",
          "data": {
            "text/plain": [
              "array([1.82980468])"
            ]
          },
          "metadata": {
            "tags": []
          },
          "execution_count": 238
        }
      ]
    },
    {
      "cell_type": "code",
      "metadata": {
        "id": "hCF23DMXsqv0"
      },
      "source": [
        "y_pred = np.dot(x_test_data, w)"
      ],
      "execution_count": null,
      "outputs": []
    },
    {
      "cell_type": "code",
      "metadata": {
        "id": "tSvKZunvbcvs"
      },
      "source": [
        "n, m = y_pred.shape\n",
        "mse_error = 0\n",
        "\n",
        "for i in range(n):\n",
        "  mse_error = mse_error + (y_pred[i] - y_test_data[i])**2\n",
        "\n",
        "mse_error = (1.0/n)*(mse_error**(0.5))"
      ],
      "execution_count": null,
      "outputs": []
    },
    {
      "cell_type": "code",
      "metadata": {
        "id": "BX3xB_-PblLR",
        "outputId": "65c3a040-d453-41e8-bf12-c501fe5d1949",
        "colab": {
          "base_uri": "https://localhost:8080/",
          "height": 34
        }
      },
      "source": [
        "print(\"Mean Squared error = \" + str(mse_error[0]))"
      ],
      "execution_count": null,
      "outputs": [
        {
          "output_type": "stream",
          "text": [
            "Mean Squared error = 0.09657494950249677\n"
          ],
          "name": "stdout"
        }
      ]
    },
    {
      "cell_type": "code",
      "metadata": {
        "id": "5FoqKzw2fXKo"
      },
      "source": [
        "w_1 = [f[0] for f in w1]\n",
        "w_2 = [f[0] for f in w2]\n",
        "losses_1 = [l[0] for l in losses]"
      ],
      "execution_count": null,
      "outputs": []
    },
    {
      "cell_type": "code",
      "metadata": {
        "id": "es8OKc2vfsZc",
        "outputId": "19bd71fc-ba50-4f11-c0ec-488198f68014",
        "colab": {
          "base_uri": "https://localhost:8080/",
          "height": 248
        }
      },
      "source": [
        "fig = plt.figure()\n",
        "ax = fig.gca(projection='3d')\n",
        "\n",
        "# ax.set_zlim3d(1.2, 1.7)\n",
        "# ax.set_ylim3d(-1.5, -0.5)\n",
        "\n",
        "ax.set_xlabel('w1')\n",
        "ax.set_ylabel('w2')\n",
        "ax.set_zlabel('Loss value')\n",
        "\n",
        "ax.plot(w_1, w_2, losses_1)\n",
        "plt.show()"
      ],
      "execution_count": null,
      "outputs": [
        {
          "output_type": "display_data",
          "data": {
            "image/png": "[encoded data removed]",
            "text/plain": [
              "<Figure size 432x288 with 1 Axes>"
            ]
          },
          "metadata": {
            "tags": [],
            "needs_background": "light"
          }
        }
      ]
    }
  ]
}