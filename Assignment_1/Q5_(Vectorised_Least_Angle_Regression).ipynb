{
  "nbformat": 4,
  "nbformat_minor": 0,
  "metadata": {
    "colab": {
      "name": "Q5 (Vectorised Least Angle Regression)",
      "provenance": [],
      "collapsed_sections": []
    },
    "kernelspec": {
      "name": "python3",
      "display_name": "Python 3"
    }
  },
  "cells": [
    {
      "cell_type": "code",
      "metadata": {
        "id": "vcdYUjcf6Llz"
      },
      "source": [
        "import numpy as np\n",
        "import matplotlib.pyplot as plt\n",
        "from mpl_toolkits.mplot3d import Axes3D\n",
        "import pandas as pd\n",
        "import seaborn as sns"
      ],
      "execution_count": null,
      "outputs": []
    },
    {
      "cell_type": "code",
      "metadata": {
        "id": "cSrSZvTz6wfa"
      },
      "source": [
        "tr_x = '/content/drive/My Drive/NNFL/training_feature_matrix - Sheet1.csv'\n",
        "tr_y = '/content/drive/My Drive/NNFL/training_output - Sheet1.csv'\n",
        "ts_x = '/content/drive/My Drive/NNFL/test_feature_matrix - Sheet1.csv'\n",
        "ts_y = '/content/drive/My Drive/NNFL/test_output - Sheet1.csv'"
      ],
      "execution_count": null,
      "outputs": []
    },
    {
      "cell_type": "code",
      "metadata": {
        "id": "L-O0hZXH7gDh"
      },
      "source": [
        "xtr = pd.read_csv(tr_x, header = None).to_numpy()\n",
        "ytr = pd.read_csv(tr_y, header = None).to_numpy()\n",
        "\n",
        "xts = pd.read_csv(ts_x, header = None).to_numpy()\n",
        "yts = pd.read_csv(ts_y, header = None).to_numpy()"
      ],
      "execution_count": null,
      "outputs": []
    },
    {
      "cell_type": "code",
      "metadata": {
        "id": "0V3eM7mSx-5v"
      },
      "source": [
        "m1 = xtr.shape[0]\n",
        "m2 = xts.shape[0]\n",
        "ones_train = np.ones((m1, 1), dtype='float32')\n",
        "ones_test = np.ones((m2, 1), dtype='float32')"
      ],
      "execution_count": null,
      "outputs": []
    },
    {
      "cell_type": "code",
      "metadata": {
        "id": "TYN9pyR-vh8D"
      },
      "source": [
        "# normalization\n",
        "def normalize(x1, x2):\n",
        "  x = np.concatenate((x1, x2), axis=0)\n",
        "  xmean = np.mean(x)\n",
        "  xstd = np.std(x)\n",
        "  ret = (x - xmean)/(xstd)  \n",
        "  return ret"
      ],
      "execution_count": null,
      "outputs": []
    },
    {
      "cell_type": "code",
      "metadata": {
        "id": "MtCjLxJvvxWC"
      },
      "source": [
        "X = normalize(xtr, xts)\n",
        "Y = normalize(ytr, yts)"
      ],
      "execution_count": null,
      "outputs": []
    },
    {
      "cell_type": "code",
      "metadata": {
        "id": "AQ3noavZxVGW"
      },
      "source": [
        "x_train_data = np.concatenate((ones_train, X[:m1,:]), axis=1)\n",
        "x_test_data = np.concatenate((ones_test, X[m1:m1+m2,:]), axis=1)\n",
        "y_train_data = Y[:m1,:]\n",
        "y_test_data = Y[m1:m1+m2,:]"
      ],
      "execution_count": null,
      "outputs": []
    },
    {
      "cell_type": "code",
      "metadata": {
        "id": "RblRlcGt95Yh"
      },
      "source": [
        "def signum(z):\n",
        "  if (z < 0):\n",
        "    return -1\n",
        "  elif (z > 0):\n",
        "    return 1\n",
        "  else:\n",
        "    return 0"
      ],
      "execution_count": null,
      "outputs": []
    },
    {
      "cell_type": "code",
      "metadata": {
        "id": "jfoW28Jqz63R"
      },
      "source": [
        "def eval_loss_and_gradient(w, x, y, ld):\n",
        "  n = x.shape[0]\n",
        "  p = np.dot(x, w) - y\n",
        "  lossfnval = (1 / (2*n)) * np.dot(p.T, p)\n",
        "  gradval = (1 / n) * np.dot(x.T, p)\n",
        "\n",
        "  m = x.shape[1]\n",
        "\n",
        "  for i in range(m):\n",
        "    lossfnval  = lossfnval + (ld * abs(w[i]))\n",
        "\n",
        "  for i in range(m):\n",
        "    gradval[i]  = gradval[i] + (ld * signum(w[i]))\n",
        "\n",
        "  return gradval, lossfnval"
      ],
      "execution_count": null,
      "outputs": []
    },
    {
      "cell_type": "code",
      "metadata": {
        "id": "-K3vmA3u074o"
      },
      "source": [
        "# define hyperparameters\n",
        "iterations = 6000\n",
        "alpha = 0.01\n",
        "w = np.random.randn(3, 1)\n",
        "lambda_ = 0.1\n",
        "losses = []\n",
        "w1 = []\n",
        "w2 = []\n",
        "ws = []"
      ],
      "execution_count": null,
      "outputs": []
    },
    {
      "cell_type": "code",
      "metadata": {
        "id": "mZhJ4JUg1B8_"
      },
      "source": [
        "for it in range(iterations):\n",
        "  grad, loss = eval_loss_and_gradient(w, x_train_data, y_train_data, lambda_)\n",
        "  w = w - alpha*grad\n",
        "  losses.append(loss)\n",
        "  w1.append(w[1])\n",
        "  w2.append(w[2])\n",
        "  ws.append(w[1:])"
      ],
      "execution_count": null,
      "outputs": []
    },
    {
      "cell_type": "code",
      "metadata": {
        "id": "nPbu3jJ21aRU",
        "outputId": "8d07f5fb-5619-4bca-c9d8-9994e62a464f",
        "colab": {
          "base_uri": "https://localhost:8080/",
          "height": 282
        }
      },
      "source": [
        "plt.plot([i for i in range(iterations)][:1000], [los.flatten() for los in losses][:1000])"
      ],
      "execution_count": null,
      "outputs": [
        {
          "output_type": "execute_result",
          "data": {
            "text/plain": [
              "[<matplotlib.lines.Line2D at 0x7f9de3e15cc0>]"
            ]
          },
          "metadata": {
            "tags": []
          },
          "execution_count": 12
        },
        {
          "output_type": "display_data",
          "data": {
            "image/png": "[encoded data removed]",
            "text/plain": [
              "<Figure size 432x288 with 1 Axes>"
            ]
          },
          "metadata": {
            "tags": [],
            "needs_background": "light"
          }
        }
      ]
    },
    {
      "cell_type": "code",
      "metadata": {
        "id": "5GdbhrXr1mTz",
        "outputId": "77d93292-f984-4cee-ce2c-f56b6487a521",
        "colab": {
          "base_uri": "https://localhost:8080/",
          "height": 34
        }
      },
      "source": [
        "losses[-1]"
      ],
      "execution_count": null,
      "outputs": [
        {
          "output_type": "execute_result",
          "data": {
            "text/plain": [
              "array([[0.38256918]])"
            ]
          },
          "metadata": {
            "tags": []
          },
          "execution_count": 13
        }
      ]
    },
    {
      "cell_type": "code",
      "metadata": {
        "id": "qXzp7tJwgz1e",
        "outputId": "71875645-01e0-48ae-aa93-1fd2ca9d02d2",
        "colab": {
          "base_uri": "https://localhost:8080/",
          "height": 34
        }
      },
      "source": [
        "x_train_data.shape"
      ],
      "execution_count": null,
      "outputs": [
        {
          "output_type": "execute_result",
          "data": {
            "text/plain": [
              "(245, 3)"
            ]
          },
          "metadata": {
            "tags": []
          },
          "execution_count": 14
        }
      ]
    },
    {
      "cell_type": "code",
      "metadata": {
        "id": "hCF23DMXsqv0"
      },
      "source": [
        "y_pred = np.dot(x_test_data, w)"
      ],
      "execution_count": null,
      "outputs": []
    },
    {
      "cell_type": "code",
      "metadata": {
        "id": "tSvKZunvbcvs"
      },
      "source": [
        "n, m = y_pred.shape\n",
        "mse_error = 0\n",
        "\n",
        "for i in range(n):\n",
        "  mse_error = mse_error + (y_pred[i] - y_test_data[i])**2\n",
        "\n",
        "mse_error = (1.0/n)*(mse_error**(0.5))"
      ],
      "execution_count": null,
      "outputs": []
    },
    {
      "cell_type": "code",
      "metadata": {
        "id": "BX3xB_-PblLR",
        "outputId": "a893b0d7-f47c-4f9b-c293-f62707ed3ff2",
        "colab": {
          "base_uri": "https://localhost:8080/",
          "height": 34
        }
      },
      "source": [
        "print(\"Mean Squared error = \" + str(mse_error[0]))"
      ],
      "execution_count": null,
      "outputs": [
        {
          "output_type": "stream",
          "text": [
            "Mean Squared error = 0.13317214719070608\n"
          ],
          "name": "stdout"
        }
      ]
    },
    {
      "cell_type": "code",
      "metadata": {
        "id": "kufO-VaK8WXh"
      },
      "source": [
        "w_1 = [f[0].flatten()[0] for f in w1]\n",
        "w_2 = [f[0].flatten()[0] for f in w2]\n",
        "losses_1 = [l[0].flatten()[0] for l in losses]"
      ],
      "execution_count": null,
      "outputs": []
    },
    {
      "cell_type": "code",
      "metadata": {
        "id": "s7ZA08u48Owh",
        "outputId": "eaa1149a-153b-44d5-ffd6-b37e55202d9e",
        "colab": {
          "base_uri": "https://localhost:8080/",
          "height": 248
        }
      },
      "source": [
        "fig = plt.figure()\n",
        "ax = fig.gca(projection='3d')\n",
        "\n",
        "# ax.set_zlim3d(1.2, 1.7)\n",
        "# ax.set_ylim3d(-1.5, -0.5)\n",
        "\n",
        "ax.set_xlabel('w1')\n",
        "ax.set_ylabel('w2')\n",
        "ax.set_zlabel('Loss value')\n",
        "\n",
        "ax.plot(w_1, w_2, losses_1)\n",
        "plt.show()"
      ],
      "execution_count": null,
      "outputs": [
        {
          "output_type": "display_data",
          "data": {
            "image/png": "[encoded data removed]",
            "text/plain": [
              "<Figure size 432x288 with 1 Axes>"
            ]
          },
          "metadata": {
            "tags": [],
            "needs_background": "light"
          }
        }
      ]
    }
  ]
}