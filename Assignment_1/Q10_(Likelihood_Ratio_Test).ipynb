{
  "nbformat": 4,
  "nbformat_minor": 0,
  "metadata": {
    "colab": {
      "name": "Q10 (Likelihood Ratio Test)",
      "provenance": [],
      "collapsed_sections": []
    },
    "kernelspec": {
      "name": "python3",
      "display_name": "Python 3"
    }
  },
  "cells": [
    {
      "cell_type": "code",
      "metadata": {
        "id": "5a0aJIiZy3-y"
      },
      "source": [
        "# Likelihood Ratio Test (LRT)"
      ],
      "execution_count": null,
      "outputs": []
    },
    {
      "cell_type": "code",
      "metadata": {
        "id": "jjD63jL936iv"
      },
      "source": [
        "import numpy as np\n",
        "import pandas as pd\n",
        "import matplotlib.pyplot as plt"
      ],
      "execution_count": null,
      "outputs": []
    },
    {
      "cell_type": "code",
      "metadata": {
        "id": "H5lTyasQ6qtD"
      },
      "source": [
        "path = '/content/drive/My Drive/NNFL/data3.xlsx'\n",
        "data = pd.read_excel(path, header = None)\n",
        "data = np.array(data)\n",
        "N, M = data.shape"
      ],
      "execution_count": null,
      "outputs": []
    },
    {
      "cell_type": "code",
      "metadata": {
        "id": "AHH4qt7K61XG",
        "outputId": "2499088a-24fa-48da-faaf-2d675ac8a5ab",
        "colab": {
          "base_uri": "https://localhost:8080/",
          "height": 34
        }
      },
      "source": [
        "np.random.shuffle(data)\n",
        "train_ratio = 0.6\n",
        "\n",
        "X = data[:, :M-1]\n",
        "Y = data[:, M-1]\n",
        "N, M"
      ],
      "execution_count": null,
      "outputs": [
        {
          "output_type": "execute_result",
          "data": {
            "text/plain": [
              "(100, 5)"
            ]
          },
          "metadata": {
            "tags": []
          },
          "execution_count": 3
        }
      ]
    },
    {
      "cell_type": "code",
      "metadata": {
        "id": "X_tOlFsi7B0g"
      },
      "source": [
        "train_num = (int)(N*train_ratio)\n",
        "test_num = (int)(N*(1-train_ratio))"
      ],
      "execution_count": null,
      "outputs": []
    },
    {
      "cell_type": "code",
      "metadata": {
        "id": "4Mornyz17ZYM"
      },
      "source": [
        "x_train = X[:train_num, :]\n",
        "y_train = Y[:train_num]\n",
        "x_test = X[train_num:, :]\n",
        "y_test = Y[train_num:]"
      ],
      "execution_count": null,
      "outputs": []
    },
    {
      "cell_type": "code",
      "metadata": {
        "id": "ZxS4nnDqAK9G"
      },
      "source": [
        "def get_probs(x, mu_1, mu_2, sigma_1, sigma_2, c1, c2):\n",
        "  n1 = len(c1)\n",
        "  n2 = len(c2)\n",
        "\n",
        "  p1 = x - mu_1\n",
        "  siginv1 = np.linalg.inv(sigma_1)\n",
        "  det1 = np.linalg.det(sigma_1) ** 0.5\n",
        "  expo1 = np.dot(p1, np.dot(siginv1, p1.T)) * (-0.5)\n",
        "  denom1 = ((np.pi * 2) ** (n1 / 2.0)) * det1 \n",
        "\n",
        "  p2 = x - mu_2\n",
        "  siginv2 = np.linalg.inv(sigma_2)\n",
        "  det2 = np.linalg.det(sigma_2) ** 0.5\n",
        "  expo2 = np.dot(p2, np.dot(siginv2, p2.T)) * (-0.5)\n",
        "  denom2 = ((np.pi * 2) ** (n2 / 2.0)) * det2 \n",
        "\n",
        "  ans1 = np.exp(-expo1) / denom1\n",
        "  ans2 = np.exp(-expo2) / denom2\n",
        "  py1 = n1 / (n1+n2)\n",
        "  py2 = n2 / (n1+n2)\n",
        "\n",
        "\n",
        "  lhs = ans1 * py1\n",
        "  rhs = ans2 * py2\n",
        "\n",
        "  return lhs, rhs\n",
        "\n",
        "\n",
        "def LRT(x_test, y_test, x_train, y_train, train_num, test_num):\n",
        "  c1 = []\n",
        "  c2 = []\n",
        "\n",
        "  for i in range(train_num):\n",
        "    k = y_train[i]\n",
        "    if (k == 1):\n",
        "      c1.append(x_train[i, :])\n",
        "    elif (k == 2):\n",
        "      c2.append(x_train[i, :])\n",
        "\n",
        "\n",
        "  c1 = np.array(c1)\n",
        "  c2 = np.array(c2)\n",
        "\n",
        "  mu_1 = np.mean(c1, axis = 0).reshape(1, 4)\n",
        "  mu_2 = np.mean(c2, axis = 0).reshape(1, 4)\n",
        "\n",
        "  sigma_1 = np.cov(c1.T)\n",
        "  sigma_2 = np.cov(c2.T)\n",
        "\n",
        "  retlist = []\n",
        "  for i in range(test_num):\n",
        "    x = x_test[i, :]\n",
        "    lhs, rhs = get_probs(x, mu_1, mu_2, sigma_1, sigma_2, c1, c2)\n",
        "    if (lhs > rhs):\n",
        "      retlist.append(2)\n",
        "    else:\n",
        "      retlist.append(1)\n",
        "\n",
        "  ret = np.array(retlist)\n",
        "  return ret"
      ],
      "execution_count": null,
      "outputs": []
    },
    {
      "cell_type": "code",
      "metadata": {
        "id": "63C5HQpHA5_W"
      },
      "source": [
        "ls = LRT(x_test, y_test, x_train, y_train, train_num, test_num)"
      ],
      "execution_count": null,
      "outputs": []
    },
    {
      "cell_type": "code",
      "metadata": {
        "id": "wVImqjIat3En"
      },
      "source": [
        "truepos = 0\n",
        "trueneg = 0\n",
        "falsepos = 0\n",
        "falseneg = 0\n",
        "\n",
        "\n",
        "n, m = x_test.shape\n",
        "for i in range(n):\n",
        "  if (y_test[i] == 1):\n",
        "    if (ls[i] == 1):\n",
        "      trueneg += 1\n",
        "    else:\n",
        "      falsepos += 1\n",
        "  else:\n",
        "    if (ls[i] == 1):\n",
        "      falseneg += 1\n",
        "    else:\n",
        "      truepos += 1"
      ],
      "execution_count": null,
      "outputs": []
    },
    {
      "cell_type": "code",
      "metadata": {
        "id": "Yg9e_reAlTXn"
      },
      "source": [
        "# accuracy\n",
        "accuracy = (truepos + trueneg) / (truepos + trueneg + falsepos + falseneg)\n",
        "\n",
        "# sensitivity\n",
        "sensitivity = truepos / (truepos + falseneg)\n",
        "\n",
        "# specificity\n",
        "specificity = trueneg / (trueneg + falsepos)"
      ],
      "execution_count": null,
      "outputs": []
    },
    {
      "cell_type": "code",
      "metadata": {
        "id": "7P5j0iETl4qW",
        "outputId": "8fd73f03-f3e0-4005-fa9c-30ca0f7c52a2",
        "colab": {
          "base_uri": "https://localhost:8080/",
          "height": 68
        }
      },
      "source": [
        "print(\"Accuracy = \" + str(accuracy))\n",
        "print(\"Sensitivity = \" + str(sensitivity))\n",
        "print(\"Specificity = \" + str(specificity))"
      ],
      "execution_count": null,
      "outputs": [
        {
          "output_type": "stream",
          "text": [
            "Accuracy = 1.0\n",
            "Sensitivity = 1.0\n",
            "Specificity = 1.0\n"
          ],
          "name": "stdout"
        }
      ]
    }
  ]
}