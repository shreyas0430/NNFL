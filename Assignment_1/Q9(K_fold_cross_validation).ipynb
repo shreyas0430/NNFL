{
  "nbformat": 4,
  "nbformat_minor": 0,
  "metadata": {
    "colab": {
      "name": "Q9(K-fold cross validation)",
      "provenance": [],
      "collapsed_sections": []
    },
    "kernelspec": {
      "name": "python3",
      "display_name": "Python 3"
    }
  },
  "cells": [
    {
      "cell_type": "code",
      "metadata": {
        "id": "gea5NLhu-ivR"
      },
      "source": [
        "import numpy as np\n",
        "import pandas as pd\n",
        "import matplotlib.pyplot as plt"
      ],
      "execution_count": 74,
      "outputs": []
    },
    {
      "cell_type": "code",
      "metadata": {
        "id": "iPDgMxSB--hR"
      },
      "source": [
        "path = '/content/drive/My Drive/NNFL/data4.xlsx'\n",
        "data = pd.read_excel(path, header = None)\n",
        "data = np.array(data)\n",
        "np.random.shuffle(data)"
      ],
      "execution_count": 75,
      "outputs": []
    },
    {
      "cell_type": "code",
      "metadata": {
        "id": "VsmMHR3v_WhL"
      },
      "source": [
        "def normalise(x):\n",
        "  xmean = np.mean(x, axis=1).reshape(x.shape[0], 1)\n",
        "  xstd = np.std(x, axis=1).reshape(x.shape[0], 1)\n",
        "  z = (x-xmean)/xstd\n",
        "  return z"
      ],
      "execution_count": 76,
      "outputs": []
    },
    {
      "cell_type": "code",
      "metadata": {
        "id": "CnDGjYfj_dQ4"
      },
      "source": [
        "N, M = data.shape\n",
        "\n",
        "ones = np.ones((N, 1), dtype='float32')\n",
        "\n",
        "X = data[:, :M-1]\n",
        "X = np.concatenate([ones, X], axis=1)\n",
        "Y = data[:, M-1:]\n",
        "\n",
        "N, M = data.shape"
      ],
      "execution_count": 77,
      "outputs": []
    },
    {
      "cell_type": "code",
      "metadata": {
        "id": "ivUgsYYY__GN"
      },
      "source": [
        "X = normalise(X)"
      ],
      "execution_count": 78,
      "outputs": []
    },
    {
      "cell_type": "code",
      "metadata": {
        "id": "UPG3zH5-WJWy"
      },
      "source": [
        "def model(ws, x, y, iterations, alpha, p):\n",
        "\n",
        "  w = ws['w'+str(p)]\n",
        "  delta = 0.01\n",
        "  costs = []\n",
        "  grads = []\n",
        "\n",
        "  for iter in range(iterations):\n",
        "    \n",
        "    pred = np.dot(w, x.T)\n",
        "    pred = sigmoid(pred)\n",
        "\n",
        "    dp = x.shape[0]\n",
        "\n",
        "    costval = (-1.0 / dp) * (np.sum(np.multiply(y, np.log(pred+delta)) + np.multiply(1.0-y, np.log(1.0 - pred+delta)), axis=1))\n",
        "    costs.append(costval)\n",
        "\n",
        "    gradval = np.dot((pred - y), x)\n",
        "    grads.append(gradval)\n",
        "\n",
        "    w = w - alpha*gradval\n",
        "    ws['w'+str(p)] = w\n",
        "\n",
        "\n",
        "  return costs, grads, ws"
      ],
      "execution_count": 79,
      "outputs": []
    },
    {
      "cell_type": "code",
      "metadata": {
        "id": "0SAYpzxiXxSG"
      },
      "source": [
        "def get_data(x, y, pos):\n",
        "  xp = []\n",
        "  yp = []\n",
        "\n",
        "  n, m = x.shape\n",
        "\n",
        "  for i in range(n):\n",
        "    xp.append(x[i])  \n",
        "    if (y[i][0] == pos):\n",
        "      yp.append(1)\n",
        "    else:\n",
        "      yp.append(0)\n",
        "\n",
        "  xp = np.array(xp)\n",
        "  yp = np.array(yp)\n",
        "  return xp, yp"
      ],
      "execution_count": 80,
      "outputs": []
    },
    {
      "cell_type": "code",
      "metadata": {
        "id": "D6yT8eZgxyos"
      },
      "source": [
        "def sigmoid(z):\n",
        "  return 1.0 / (1.0 + np.exp(-z))"
      ],
      "execution_count": 81,
      "outputs": []
    },
    {
      "cell_type": "code",
      "metadata": {
        "id": "iJSdamD0WOtz"
      },
      "source": [
        "alpha = 0.1\n",
        "iterations = 6000\n",
        "\n",
        "w1 = np.random.randn(1, X.shape[1])\n",
        "w2 = np.random.randn(1, X.shape[1])\n",
        "w3 = np.random.randn(1, X.shape[1])\n",
        "\n",
        "\n",
        "w = {'w1': w1, 'w2': w2, 'w3': w3}\n",
        "\n",
        "kfold = 5\n",
        "pos = 3\n",
        "tr_ratio = 0.2\n",
        "tr_num = int (N * tr_ratio)\n",
        "\n",
        "\n",
        "for j in range(kfold):\n",
        "  x = X[tr_num*j:tr_num*(j+1), :]\n",
        "  y = Y[tr_num*j:tr_num*(j+1), :]\n",
        "\n",
        "\n",
        "  # one vs one trainer\n",
        "  for p in range(1, pos+1):\n",
        "    xp, yp = get_data(x, y, p)\n",
        "    _, _, w = model(w, xp, yp, iterations, alpha, p)"
      ],
      "execution_count": 82,
      "outputs": []
    },
    {
      "cell_type": "code",
      "metadata": {
        "id": "7SAZQtnUyXRC"
      },
      "source": [
        "w1 = w['w1']\n",
        "w2 = w['w2']\n",
        "w3 = w['w3']"
      ],
      "execution_count": 83,
      "outputs": []
    },
    {
      "cell_type": "code",
      "metadata": {
        "id": "0RafFWYbYXQb",
        "outputId": "776f7a8f-448d-476f-dc2f-89f83ada4813",
        "colab": {
          "base_uri": "https://localhost:8080/",
          "height": 85
        }
      },
      "source": [
        "pred1 = sigmoid(np.dot(w1, X.T))[0]\n",
        "\n",
        "# for model1\n",
        "n, m = X.shape\n",
        "\n",
        "tp = 0\n",
        "fp = 0\n",
        "tn = 0\n",
        "fn = 0\n",
        "classnum = 1\n",
        "\n",
        "\n",
        "for i in range(n):\n",
        "  if (pred1[i] >= 0.5):\n",
        "    pred1[i] = 0.0\n",
        "  else:\n",
        "    pred1[i] = 1.0\n",
        "\n",
        "\n",
        "for i in range(n):\n",
        "  if (Y[i] == classnum):\n",
        "    if (pred1[i] == classnum):\n",
        "      tp += 1\n",
        "    else:\n",
        "      fn += 1\n",
        "\n",
        "  else:\n",
        "    if (pred1[i] == classnum):\n",
        "      fp += 1\n",
        "    else:\n",
        "      tn += 1\n",
        "\n",
        "# accuracy\n",
        "acc = (tp + tn) / (tp + tn + fp + fn)\n",
        "\n",
        "# sensitivity\n",
        "sen = tp / (tp + fn)\n",
        "\n",
        "# specificity\n",
        "spec = tn / (tn + fp)\n",
        "\n",
        "print(\"For Model 1:\")\n",
        "print(\"Accuracy = \" + str(acc))\n",
        "print(\"Sensitivity = \" + str(sen))\n",
        "print(\"Specificity = \" + str(spec))"
      ],
      "execution_count": 84,
      "outputs": [
        {
          "output_type": "stream",
          "text": [
            "For Model 1:\n",
            "Accuracy = 0.6667\n",
            "Sensitivity = 0.02\n",
            "Specificity = 0.0\n"
          ],
          "name": "stdout"
        }
      ]
    },
    {
      "cell_type": "code",
      "metadata": {
        "id": "BTl6H0KwyYyM",
        "outputId": "3d3caaa4-2950-4115-a3b0-d7ee846d8bcd",
        "colab": {
          "base_uri": "https://localhost:8080/",
          "height": 85
        }
      },
      "source": [
        "pred2 = sigmoid(np.dot(w2, X.T))[0]\n",
        "\n",
        "# for model2\n",
        "n, m = X.shape\n",
        "\n",
        "tp = 0\n",
        "fp = 0\n",
        "tn = 0\n",
        "fn = 0\n",
        "classnum = 2\n",
        "\n",
        "\n",
        "for i in range(n):\n",
        "  if (pred2[i] >= 0.5):\n",
        "    pred2[i] = 0.0\n",
        "  else:\n",
        "    pred2[i] = 1.0\n",
        "\n",
        "\n",
        "for i in range(n):\n",
        "  if (Y[i] == classnum):\n",
        "    if (pred2[i] == classnum):\n",
        "      tp += 1\n",
        "    else:\n",
        "      fn += 1\n",
        "\n",
        "  else:\n",
        "    if (pred2[i] == classnum):\n",
        "      fp += 1\n",
        "    else:\n",
        "      tn += 1\n",
        "\n",
        "# accuracy\n",
        "acc = (tp + tn) / (tp + tn + fp + fn)\n",
        "\n",
        "# sensitivity\n",
        "sen = tp / (tp + fn)\n",
        "\n",
        "# specificity\n",
        "spec = tn / (tn + fp)\n",
        "\n",
        "print(\"For Model 2:\")\n",
        "print(\"Accuracy = \" + str(acc))\n",
        "print(\"Sensitivity = \" + str(sen))\n",
        "print(\"Specificity = \" + str(spec))"
      ],
      "execution_count": 85,
      "outputs": [
        {
          "output_type": "stream",
          "text": [
            "For Model 2:\n",
            "Accuracy = 0.6666666666666666\n",
            "Sensitivity = 0.0\n",
            "Specificity = 1.0\n"
          ],
          "name": "stdout"
        }
      ]
    },
    {
      "cell_type": "code",
      "metadata": {
        "id": "_eH2lVVJyDdU",
        "outputId": "be9592dd-e6d1-410f-88d6-104bb662125c",
        "colab": {
          "base_uri": "https://localhost:8080/",
          "height": 85
        }
      },
      "source": [
        "pred3 = sigmoid(np.dot(w3, X.T))[0]\n",
        "\n",
        "# for model3\n",
        "n, m = X.shape\n",
        "\n",
        "tp = 0\n",
        "fp = 0\n",
        "tn = 0\n",
        "fn = 0\n",
        "classnum = 3\n",
        "\n",
        "\n",
        "for i in range(n):\n",
        "  if (pred3[i] >= 0.5):\n",
        "    pred3[i] = 0.0\n",
        "  else:\n",
        "    pred3[i] = 1.0\n",
        "\n",
        "\n",
        "for i in range(n):\n",
        "  if (Y[i] == classnum):\n",
        "    if (pred3[i] == classnum):\n",
        "      tp += 1\n",
        "    else:\n",
        "      fn += 1\n",
        "\n",
        "  else:\n",
        "    if (pred3[i] == classnum):\n",
        "      fp += 1\n",
        "    else:\n",
        "      tn += 1\n",
        "\n",
        "# accuracy\n",
        "acc = (tp + tn) / (tp + tn + fp + fn)\n",
        "\n",
        "# sensitivity\n",
        "sen = tp / (tp + fn)\n",
        "\n",
        "# specificity\n",
        "spec = tn / (tn + fp)\n",
        "\n",
        "print(\"For Model 3:\")\n",
        "print(\"Accuracy = \" + str(acc))\n",
        "print(\"Sensitivity = \" + str(sen))\n",
        "print(\"Specificity = \" + str(spec))"
      ],
      "execution_count": 86,
      "outputs": [
        {
          "output_type": "stream",
          "text": [
            "For Model 3:\n",
            "Accuracy = 0.6666666666666666\n",
            "Sensitivity = 0.0\n",
            "Specificity = 1.0\n"
          ],
          "name": "stdout"
        }
      ]
    },
    {
      "cell_type": "code",
      "metadata": {
        "id": "NS6VFgjUy1ij"
      },
      "source": [
        ""
      ],
      "execution_count": 86,
      "outputs": []
    }
  ]
}