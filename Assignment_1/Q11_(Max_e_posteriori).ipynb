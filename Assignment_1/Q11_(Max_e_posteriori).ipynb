{
  "nbformat": 4,
  "nbformat_minor": 0,
  "metadata": {
    "colab": {
      "name": "Q11 (Max e posteriori)",
      "provenance": [],
      "collapsed_sections": []
    },
    "kernelspec": {
      "name": "python3",
      "display_name": "Python 3"
    }
  },
  "cells": [
    {
      "cell_type": "code",
      "metadata": {
        "id": "4UFpFA2rmq8d"
      },
      "source": [
        "import numpy as np\n",
        "import pandas as pd\n",
        "import matplotlib.pyplot as plt"
      ],
      "execution_count": null,
      "outputs": []
    },
    {
      "cell_type": "code",
      "metadata": {
        "id": "gwpxeA88o-TC",
        "outputId": "3260d6fb-f418-470e-9db1-74e9ea29be87",
        "colab": {
          "base_uri": "https://localhost:8080/",
          "height": 34
        }
      },
      "source": [
        "path = '/content/drive/My Drive/NNFL/data4.xlsx'\n",
        "data = pd.read_excel(path, header = None)\n",
        "N, M = data.shape\n",
        "N, M"
      ],
      "execution_count": null,
      "outputs": [
        {
          "output_type": "execute_result",
          "data": {
            "text/plain": [
              "(150, 8)"
            ]
          },
          "metadata": {
            "tags": []
          },
          "execution_count": 17
        }
      ]
    },
    {
      "cell_type": "code",
      "metadata": {
        "id": "LP9W4Pduo_jY"
      },
      "source": [
        "data = np.array(data)\n",
        "np.random.shuffle(data)\n",
        "# ones = np.ones((N, 1), dtype='float32')\n",
        "# X = np.concatenate([ones, data[:, :M-1]], axis=1)\n",
        "X = data[:, :M-1]\n",
        "Y = data[:, M-1]"
      ],
      "execution_count": null,
      "outputs": []
    },
    {
      "cell_type": "code",
      "metadata": {
        "id": "82u6ZIGGpA1R"
      },
      "source": [
        "tr_ratio = 0.7\n",
        "ntr = int (N*tr_ratio)\n",
        "nts = N - ntr\n",
        "x_train = X[:ntr, :]\n",
        "x_test = X[ntr:, :]\n",
        "y_train = Y[:ntr]\n",
        "y_test = Y[ntr:]"
      ],
      "execution_count": null,
      "outputs": []
    },
    {
      "cell_type": "code",
      "metadata": {
        "id": "ea2Q4fJnpNZ1"
      },
      "source": [
        "x_a = []\n",
        "x_b = []\n",
        "x_c = []\n",
        "\n",
        "n, m = x_train.shape\n",
        "for i in range(n):\n",
        "  if (y_train[i] == 1):\n",
        "    x_a.append(x_train[i])\n",
        "  elif (y_train[i] == 2):\n",
        "    x_b.append(x_train[i])\n",
        "  elif (y_train[i] == 3):\n",
        "    x_c.append(x_train[i])\n",
        "\n",
        "x_a = np.array(x_a)\n",
        "x_b = np.array(x_b)\n",
        "x_c = np.array(x_c)"
      ],
      "execution_count": null,
      "outputs": []
    },
    {
      "cell_type": "code",
      "metadata": {
        "id": "bLl96qMEpOmg"
      },
      "source": [
        "x_a_mn = np.mean(x_a, axis=0).reshape(1, x_a.shape[1])\n",
        "x_b_mn = np.mean(x_b, axis=0).reshape(1, x_b.shape[1])\n",
        "x_c_mn = np.mean(x_c, axis=0).reshape(1, x_c.shape[1])\n",
        "x_a_cov = np.cov(x_a.T)\n",
        "x_b_cov = np.cov(x_b.T)\n",
        "x_c_cov = np.cov(x_c.T)"
      ],
      "execution_count": null,
      "outputs": []
    },
    {
      "cell_type": "code",
      "metadata": {
        "id": "gVRYnrXXpP9C"
      },
      "source": [
        "n_a = x_a.shape[0]\n",
        "n_b = x_b.shape[0]\n",
        "n_c = x_c.shape[0]"
      ],
      "execution_count": null,
      "outputs": []
    },
    {
      "cell_type": "code",
      "metadata": {
        "id": "MIy1UxfdpRDI"
      },
      "source": [
        "def get_probs(x, n_a, n_b, n_c, x_a_mu, x_b_mu, x_c_mu, x_a_cov, x_b_cov, x_c_cov):\n",
        "  \n",
        "  probs = []\n",
        "  total = n_a + n_b + n_c\n",
        "\n",
        "  inverse = np.linalg.inv(x_a_cov)\n",
        "  p = x - x_a_mu\n",
        "  numer1 = np.dot(np.dot(p, inverse), p.T)\n",
        "  numer1 = np.exp(-0.5 * numer1)\n",
        "  denom1 = ((2 * np.pi)**(n_a/2)) * ((np.linalg.det(x_a_cov))**(0.5)) \n",
        "  prob1 = numer1 / denom1\n",
        "  prob1 = prob1 * (n_a / total)\n",
        "  probs.append(prob1)\n",
        "\n",
        "  inverse = np.linalg.inv(x_b_cov)\n",
        "  p = x - x_b_mu\n",
        "  numer2 = np.dot(np.dot(p, inverse), p.T)\n",
        "  numer2 = np.exp(-0.5 * numer2)\n",
        "  denom2 = ((2 * np.pi)**(n_b/2)) * ((np.linalg.det(x_b_cov))**(0.5)) \n",
        "  prob2 = numer2 / denom2\n",
        "  prob2 = prob2 * (n_b / total)\n",
        "  probs.append(prob2)\n",
        "\n",
        "  inverse = np.linalg.inv(x_c_cov)\n",
        "  p = x - x_c_mu\n",
        "  numer3 = np.dot(np.dot(p, inverse), p.T)\n",
        "  numer3 = np.exp(-0.5 * numer3)\n",
        "  denom3 = ((2 * np.pi)**(n_c/2)) * ((np.linalg.det(x_c_cov))**(0.5)) \n",
        "  prob3 = numer3 / denom3\n",
        "  prob3 = prob3 * (n_c / total)\n",
        "  probs.append(prob3)\n",
        "\n",
        "  return probs"
      ],
      "execution_count": null,
      "outputs": []
    },
    {
      "cell_type": "code",
      "metadata": {
        "id": "zUXPylDgpSPJ"
      },
      "source": [
        "# numer_a = np.dot((x_a - x_a_mn).T), \n",
        "final = []\n",
        "n, m = x_test.shape\n",
        "for i in range(n):\n",
        "  probs = get_probs(x_test[i, :], n_a, n_b, n_c, x_a_mn, x_b_mn, x_c_mn, x_a_cov, x_b_cov, x_c_cov)\n",
        "  mxval = max(probs)\n",
        "  mxindex = probs.index(mxval) + 1\n",
        "  final.append(mxindex)\n",
        "\n",
        "final = np.array(final, dtype='float32')"
      ],
      "execution_count": null,
      "outputs": []
    },
    {
      "cell_type": "code",
      "metadata": {
        "id": "col9y5gWpT4p",
        "outputId": "1547fe38-b175-48f7-ff27-8e21ed08d112",
        "colab": {
          "base_uri": "https://localhost:8080/",
          "height": 68
        }
      },
      "source": [
        "final"
      ],
      "execution_count": null,
      "outputs": [
        {
          "output_type": "execute_result",
          "data": {
            "text/plain": [
              "array([2., 3., 1., 2., 3., 3., 3., 3., 2., 1., 3., 3., 2., 1., 2., 2., 2.,\n",
              "       1., 2., 2., 1., 2., 2., 3., 1., 3., 1., 3., 3., 2., 2., 1., 1., 2.,\n",
              "       1., 2., 2., 1., 3., 2., 1., 1., 1., 1., 1.], dtype=float32)"
            ]
          },
          "metadata": {
            "tags": []
          },
          "execution_count": 25
        }
      ]
    },
    {
      "cell_type": "code",
      "metadata": {
        "id": "Ya0ViObvpmI-",
        "outputId": "e3c858a5-0ee8-469e-c144-0b6fb811dcf1",
        "colab": {
          "base_uri": "https://localhost:8080/",
          "height": 68
        }
      },
      "source": [
        "y_test"
      ],
      "execution_count": null,
      "outputs": [
        {
          "output_type": "execute_result",
          "data": {
            "text/plain": [
              "array([2., 3., 1., 2., 3., 3., 3., 3., 2., 1., 3., 3., 2., 1., 2., 2., 3.,\n",
              "       1., 2., 2., 1., 2., 2., 3., 1., 3., 1., 3., 3., 2., 2., 1., 1., 2.,\n",
              "       1., 2., 2., 1., 3., 2., 1., 1., 1., 1., 1.])"
            ]
          },
          "metadata": {
            "tags": []
          },
          "execution_count": 26
        }
      ]
    },
    {
      "cell_type": "code",
      "metadata": {
        "id": "S8dCgDncpnbb"
      },
      "source": [
        ""
      ],
      "execution_count": null,
      "outputs": []
    }
  ]
}