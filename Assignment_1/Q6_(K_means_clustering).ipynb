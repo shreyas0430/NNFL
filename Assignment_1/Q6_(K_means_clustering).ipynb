{
  "nbformat": 4,
  "nbformat_minor": 0,
  "metadata": {
    "colab": {
      "name": "Q6 (K-means clustering)",
      "provenance": [],
      "collapsed_sections": []
    },
    "kernelspec": {
      "name": "python3",
      "display_name": "Python 3"
    }
  },
  "cells": [
    {
      "cell_type": "code",
      "metadata": {
        "id": "wlH74Fk2CRTG"
      },
      "source": [
        "import numpy as np\n",
        "import pandas as pd\n",
        "import matplotlib.pyplot as plt\n",
        "import math"
      ],
      "execution_count": null,
      "outputs": []
    },
    {
      "cell_type": "code",
      "metadata": {
        "id": "UKMqGQ_pDZyk"
      },
      "source": [
        "path = '/content/drive/My Drive/NNFL/data2.xlsx'\n",
        "d = pd.read_excel(path, header=None)\n",
        "n, m = d.shape"
      ],
      "execution_count": null,
      "outputs": []
    },
    {
      "cell_type": "code",
      "metadata": {
        "id": "CZCtImDQDynd"
      },
      "source": [
        "data = np.array(d)\n",
        "np.random.shuffle(data)"
      ],
      "execution_count": null,
      "outputs": []
    },
    {
      "cell_type": "code",
      "metadata": {
        "id": "B0anN4cVTqSS"
      },
      "source": [
        "def calcDis(x, y):\n",
        "  s = 0\n",
        "  h = x.shape[0]\n",
        "  for i in range(h):\n",
        "    s = s + (x[i] - y[i])**2\n",
        "  s = s**0.5\n",
        "  return s\n",
        "\n",
        "def K_compute(n, K, centroids, data, cluster):\n",
        "\n",
        "  # getting distances for each point from the centroid\n",
        "  # and assigning the cluster for each point\n",
        "  for i in range(n):\n",
        "    p = data[i, :]\n",
        "    dis = []\n",
        "    for j in range(K):\n",
        "      x = centroids[j, :]\n",
        "      val = calcDis(x, p)\n",
        "      dis.append(val)\n",
        "    ind = dis.index(min(dis))\n",
        "    cluster[i] = ind\n",
        "\n",
        "  # assign new clusters\n",
        "  new_clusters = []\n",
        "  for i in range(K):\n",
        "    sum = 0\n",
        "    count = 0\n",
        "    for j in range(n):\n",
        "      if cluster[j] == i:\n",
        "        p = data[j, :]\n",
        "        sum = sum + p\n",
        "        count = count + 1\n",
        "    temp = sum / count\n",
        "    new_clusters.append(temp)\n",
        "\n",
        "  new_clusters = np.array(new_clusters)\n",
        "  return new_clusters, cluster\n",
        "\n",
        "\n",
        "# centroids: np array\n",
        "# data: np.array\n",
        "# cluster: list\n",
        "\n",
        "def KMeans(n, K, iterations, centroids, data):\n",
        "  cluster = []\n",
        "  for i in range(n):\n",
        "    cluster.append(-1)\n",
        "\n",
        "  for iter in range(iterations):\n",
        "    centroids, cluster = K_compute(n, K, centroids, data, cluster)\n",
        "\n",
        "  cluster = np.array(cluster)\n",
        "  return cluster"
      ],
      "execution_count": null,
      "outputs": []
    },
    {
      "cell_type": "code",
      "metadata": {
        "id": "Bn2CV8oNXVDI"
      },
      "source": [
        "# hyperparameters\n",
        "iterations = 10000\n",
        "K = 3\n",
        "centroids = data[:K, :]"
      ],
      "execution_count": null,
      "outputs": []
    },
    {
      "cell_type": "code",
      "metadata": {
        "id": "DwBbthiYXoXu"
      },
      "source": [
        "clusters = KMeans(n, K, iterations, centroids, data)"
      ],
      "execution_count": null,
      "outputs": []
    },
    {
      "cell_type": "code",
      "metadata": {
        "id": "aKYKUEGFX5sf",
        "outputId": "eb78e87c-b672-44a1-b96e-78f11b74ca54",
        "colab": {
          "base_uri": "https://localhost:8080/",
          "height": 136
        }
      },
      "source": [
        "clusters"
      ],
      "execution_count": null,
      "outputs": [
        {
          "output_type": "execute_result",
          "data": {
            "text/plain": [
              "array([0, 1, 0, 1, 0, 1, 0, 0, 2, 2, 1, 1, 2, 0, 0, 1, 0, 1, 0, 1, 1, 2,\n",
              "       2, 0, 1, 0, 0, 0, 1, 0, 1, 2, 0, 1, 0, 1, 0, 2, 0, 1, 0, 2, 1, 1,\n",
              "       1, 0, 0, 0, 0, 0, 1, 0, 0, 2, 2, 0, 1, 0, 0, 0, 2, 1, 1, 0, 1, 1,\n",
              "       0, 2, 1, 0, 2, 1, 2, 0, 2, 1, 0, 1, 0, 1, 0, 0, 2, 1, 2, 2, 2, 2,\n",
              "       2, 1, 2, 2, 1, 0, 1, 0, 2, 0, 2, 2, 0, 2, 1, 2, 2, 0, 0, 0, 0, 1,\n",
              "       0, 2, 1, 1, 1, 0, 0, 0, 1, 0, 0, 1, 1, 1, 2, 0, 1, 0, 0, 0, 0, 0,\n",
              "       0, 2, 1, 1, 2, 2, 1, 2, 1, 0, 1, 0, 1, 1, 2, 2, 2, 2])"
            ]
          },
          "metadata": {
            "tags": []
          },
          "execution_count": 7
        }
      ]
    },
    {
      "cell_type": "code",
      "metadata": {
        "id": "93kBmmoasNhv",
        "outputId": "945235fa-8ad1-4c48-cae3-41d4d389b758",
        "colab": {
          "base_uri": "https://localhost:8080/",
          "height": 313
        }
      },
      "source": [
        "# for reference, if legend not displayed\n",
        "# blue -> 1st parameter\n",
        "# orange -> 2nd parameter\n",
        "# green -> 3rd parameter\n",
        "# red -> 4th parameter\n",
        "\n",
        "\n",
        "plt.legend(loc='best')\n",
        "plt.scatter(data[:, 0], clusters, label=\"1st parameter\")\n",
        "plt.scatter(data[:, 1], clusters, label='2nd parameter')\n",
        "plt.scatter(data[:, 2], clusters, label='3rd parameter')\n",
        "plt.scatter(data[:, 3], clusters, label='4th parameter')\n",
        "plt.xlabel(\"Feature values of all points\")\n",
        "plt.ylabel(\"Cluster number\")\n",
        "plt.plot()"
      ],
      "execution_count": null,
      "outputs": [
        {
          "output_type": "stream",
          "text": [
            "No handles with labels found to put in legend.\n"
          ],
          "name": "stderr"
        },
        {
          "output_type": "execute_result",
          "data": {
            "text/plain": [
              "[]"
            ]
          },
          "metadata": {
            "tags": []
          },
          "execution_count": 8
        },
        {
          "output_type": "display_data",
          "data": {
            "image/png": "[encoded data removed]",
            "text/plain": [
              "<Figure size 432x288 with 1 Axes>"
            ]
          },
          "metadata": {
            "tags": [],
            "needs_background": "light"
          }
        }
      ]
    },
    {
      "cell_type": "code",
      "metadata": {
        "id": "8MEMrla58wLc"
      },
      "source": [
        ""
      ],
      "execution_count": null,
      "outputs": []
    }
  ]
}