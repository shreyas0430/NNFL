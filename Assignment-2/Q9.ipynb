{
  "nbformat": 4,
  "nbformat_minor": 0,
  "metadata": {
    "colab": {
      "name": "Q9",
      "provenance": [],
      "collapsed_sections": []
    },
    "kernelspec": {
      "name": "python3",
      "display_name": "Python 3"
    },
    "accelerator": "GPU"
  },
  "cells": [
    {
      "cell_type": "code",
      "metadata": {
        "id": "NjV9qQ9CWRLL"
      },
      "source": [
        "import tensorflow as tf\n",
        "\n",
        "from tensorflow import keras\n",
        "from keras.models import Sequential\n",
        "from keras.layers import Conv1D, MaxPooling1D\n",
        "from keras.layers import Activation, Dropout, Dense, Flatten\n",
        "from tensorflow.keras import activations\n",
        "from keras.preprocessing.image import ImageDataGenerator\n",
        "\n",
        "\n",
        "import scipy.io\n",
        "import numpy as np\n",
        "import pandas as pd"
      ],
      "execution_count": null,
      "outputs": []
    },
    {
      "cell_type": "code",
      "metadata": {
        "id": "l1Ks6wVhUZcd"
      },
      "source": [
        "mat = scipy.io.loadmat('/content/drive/MyDrive/NNFL Assignment - 2/Datasets/input.mat')\n",
        "data = mat['x']\n",
        "\n",
        "mat = scipy.io.loadmat('/content/drive/MyDrive/NNFL Assignment - 2/Datasets/class_label.mat')\n",
        "labels = mat['y']\n",
        "\n",
        "data = data[0].reshape(labels.shape)"
      ],
      "execution_count": null,
      "outputs": []
    },
    {
      "cell_type": "code",
      "metadata": {
        "colab": {
          "base_uri": "https://localhost:8080/"
        },
        "id": "8JqSLDzOWRBQ",
        "outputId": "92431e7d-a3c5-48e2-85fe-612442fd7b52"
      },
      "source": [
        "d = []\n",
        "n, m = labels.shape\n",
        "\n",
        "for i in range(n):\n",
        "  d.append(data[i][0].T)\n",
        "data = np.array(d)\n",
        "\n",
        "labels = keras.utils.to_categorical(labels)\n",
        "labels = labels[:, 1:]\n",
        "\n",
        "data.shape, labels.shape"
      ],
      "execution_count": null,
      "outputs": [
        {
          "output_type": "execute_result",
          "data": {
            "text/plain": [
              "((17160, 800, 12), (17160, 7))"
            ]
          },
          "metadata": {
            "tags": []
          },
          "execution_count": 17
        }
      ]
    },
    {
      "cell_type": "code",
      "metadata": {
        "colab": {
          "base_uri": "https://localhost:8080/"
        },
        "id": "ih8Rrop3fzaC",
        "outputId": "10645eaa-840b-4012-d6bf-efd1c7715e86"
      },
      "source": [
        "input_shape = (data.shape[1], data.shape[2])\n",
        "input_shape"
      ],
      "execution_count": null,
      "outputs": [
        {
          "output_type": "execute_result",
          "data": {
            "text/plain": [
              "(800, 12)"
            ]
          },
          "metadata": {
            "tags": []
          },
          "execution_count": 18
        }
      ]
    },
    {
      "cell_type": "code",
      "metadata": {
        "id": "Ft0dVBF4c1vB"
      },
      "source": [
        "model = Sequential()\n",
        "\n",
        "model.add(Conv1D(filters = 20, kernel_size = 7, input_shape = input_shape)) #conv\n",
        "model.add(MaxPooling1D(pool_size = 3, strides = 3)) #maxpool\n",
        "model.add(Activation(activations.relu)) #activation(relu)\n",
        "model.add(Conv1D(filters = 60, kernel_size = 7)) #conv\n",
        "model.add(MaxPooling1D(pool_size = 3, strides = 3)) #maxpool\n",
        "model.add(Activation(activations.relu)) #activation(relu)\n",
        "model.add(Dropout(0.7)) #dropout(0.7)\n",
        "model.add(Conv1D(filters = 120, kernel_size = 7)) #conv\n",
        "model.add(Conv1D(filters = 120, kernel_size = 7)) #conv\n",
        "model.add(Flatten()) #flatten\n",
        "model.add(Dense(2000)) #dense\n",
        "model.add(Activation(activations.relu)) #activation(relu)\n",
        "model.add(Dense(700)) #dense\n",
        "model.add(Dense(50)) #dense\n",
        "model.add(Dense(7)) #dense\n",
        "model.add(Activation(activations.softmax)) #activation(softmax)"
      ],
      "execution_count": null,
      "outputs": []
    },
    {
      "cell_type": "code",
      "metadata": {
        "colab": {
          "base_uri": "https://localhost:8080/"
        },
        "id": "zx-8S-y4wm7S",
        "outputId": "bddb7f98-6b72-420a-fd81-38ff52e4eceb"
      },
      "source": [
        "model.summary()"
      ],
      "execution_count": null,
      "outputs": [
        {
          "output_type": "stream",
          "text": [
            "Model: \"sequential_1\"\n",
            "_________________________________________________________________\n",
            "Layer (type)                 Output Shape              Param #   \n",
            "=================================================================\n",
            "conv1d_4 (Conv1D)            (None, 794, 20)           1700      \n",
            "_________________________________________________________________\n",
            "max_pooling1d_2 (MaxPooling1 (None, 264, 20)           0         \n",
            "_________________________________________________________________\n",
            "activation_4 (Activation)    (None, 264, 20)           0         \n",
            "_________________________________________________________________\n",
            "conv1d_5 (Conv1D)            (None, 258, 60)           8460      \n",
            "_________________________________________________________________\n",
            "max_pooling1d_3 (MaxPooling1 (None, 86, 60)            0         \n",
            "_________________________________________________________________\n",
            "activation_5 (Activation)    (None, 86, 60)            0         \n",
            "_________________________________________________________________\n",
            "dropout_1 (Dropout)          (None, 86, 60)            0         \n",
            "_________________________________________________________________\n",
            "conv1d_6 (Conv1D)            (None, 80, 120)           50520     \n",
            "_________________________________________________________________\n",
            "conv1d_7 (Conv1D)            (None, 74, 120)           100920    \n",
            "_________________________________________________________________\n",
            "flatten_1 (Flatten)          (None, 8880)              0         \n",
            "_________________________________________________________________\n",
            "dense_4 (Dense)              (None, 2000)              17762000  \n",
            "_________________________________________________________________\n",
            "activation_6 (Activation)    (None, 2000)              0         \n",
            "_________________________________________________________________\n",
            "dense_5 (Dense)              (None, 700)               1400700   \n",
            "_________________________________________________________________\n",
            "dense_6 (Dense)              (None, 50)                35050     \n",
            "_________________________________________________________________\n",
            "dense_7 (Dense)              (None, 7)                 357       \n",
            "_________________________________________________________________\n",
            "activation_7 (Activation)    (None, 7)                 0         \n",
            "=================================================================\n",
            "Total params: 19,359,707\n",
            "Trainable params: 19,359,707\n",
            "Non-trainable params: 0\n",
            "_________________________________________________________________\n"
          ],
          "name": "stdout"
        }
      ]
    },
    {
      "cell_type": "code",
      "metadata": {
        "id": "96ydYZaFc1x4"
      },
      "source": [
        "model.compile(optimizer='adam',\n",
        "              loss='categorical_crossentropy', # Loss\n",
        "              metrics=['accuracy'])"
      ],
      "execution_count": null,
      "outputs": []
    },
    {
      "cell_type": "code",
      "metadata": {
        "colab": {
          "base_uri": "https://localhost:8080/"
        },
        "id": "H6TpRIuOc100",
        "outputId": "678197b7-22bd-4504-f049-edf7f39ee7e3"
      },
      "source": [
        "history = model.fit(x = data, y = labels, epochs=2)"
      ],
      "execution_count": null,
      "outputs": [
        {
          "output_type": "stream",
          "text": [
            "Epoch 1/2\n",
            "537/537 [==============================] - 7s 12ms/step - loss: 0.3250 - accuracy: 0.9205\n",
            "Epoch 2/2\n",
            "537/537 [==============================] - 7s 12ms/step - loss: 0.2590 - accuracy: 0.9671\n"
          ],
          "name": "stdout"
        }
      ]
    },
    {
      "cell_type": "code",
      "metadata": {
        "id": "in5ubfF5WRVb"
      },
      "source": [
        ""
      ],
      "execution_count": null,
      "outputs": []
    },
    {
      "cell_type": "code",
      "metadata": {
        "id": "VU0Z0Z-cWRaK"
      },
      "source": [
        ""
      ],
      "execution_count": null,
      "outputs": []
    },
    {
      "cell_type": "code",
      "metadata": {
        "id": "UQFlPfSmWRe5"
      },
      "source": [
        ""
      ],
      "execution_count": null,
      "outputs": []
    },
    {
      "cell_type": "code",
      "metadata": {
        "id": "ZRWtPWBRWRj2"
      },
      "source": [
        ""
      ],
      "execution_count": null,
      "outputs": []
    },
    {
      "cell_type": "code",
      "metadata": {
        "id": "zAtNuBTAWRpG"
      },
      "source": [
        ""
      ],
      "execution_count": null,
      "outputs": []
    },
    {
      "cell_type": "code",
      "metadata": {
        "id": "KPHyiw3ZWRng"
      },
      "source": [
        ""
      ],
      "execution_count": null,
      "outputs": []
    },
    {
      "cell_type": "code",
      "metadata": {
        "id": "vPpk9HwGWRiS"
      },
      "source": [
        ""
      ],
      "execution_count": null,
      "outputs": []
    },
    {
      "cell_type": "code",
      "metadata": {
        "id": "zn5pT2ZkWRdR"
      },
      "source": [
        ""
      ],
      "execution_count": null,
      "outputs": []
    },
    {
      "cell_type": "code",
      "metadata": {
        "id": "G47Gp3nEWRYW"
      },
      "source": [
        ""
      ],
      "execution_count": null,
      "outputs": []
    },
    {
      "cell_type": "code",
      "metadata": {
        "id": "sK94lWOzWRTY"
      },
      "source": [
        ""
      ],
      "execution_count": null,
      "outputs": []
    },
    {
      "cell_type": "code",
      "metadata": {
        "id": "Wqw0r9mjWROp"
      },
      "source": [
        ""
      ],
      "execution_count": null,
      "outputs": []
    },
    {
      "cell_type": "code",
      "metadata": {
        "id": "HueGeK8dWRJy"
      },
      "source": [
        ""
      ],
      "execution_count": null,
      "outputs": []
    },
    {
      "cell_type": "code",
      "metadata": {
        "id": "j_5VtwDsWREJ"
      },
      "source": [
        ""
      ],
      "execution_count": null,
      "outputs": []
    },
    {
      "cell_type": "code",
      "metadata": {
        "id": "M7qKY-EbWQ_H"
      },
      "source": [
        ""
      ],
      "execution_count": null,
      "outputs": []
    },
    {
      "cell_type": "code",
      "metadata": {
        "id": "BctCp_rzWQ4C"
      },
      "source": [
        ""
      ],
      "execution_count": null,
      "outputs": []
    },
    {
      "cell_type": "code",
      "metadata": {
        "id": "ybBylBfUWQwS"
      },
      "source": [
        ""
      ],
      "execution_count": null,
      "outputs": []
    },
    {
      "cell_type": "code",
      "metadata": {
        "id": "0npHerjvWQr1"
      },
      "source": [
        ""
      ],
      "execution_count": null,
      "outputs": []
    },
    {
      "cell_type": "code",
      "metadata": {
        "id": "C7gHCpftUa9q"
      },
      "source": [
        ""
      ],
      "execution_count": null,
      "outputs": []
    },
    {
      "cell_type": "code",
      "metadata": {
        "id": "-lV3NGwHUbAE"
      },
      "source": [
        ""
      ],
      "execution_count": null,
      "outputs": []
    },
    {
      "cell_type": "code",
      "metadata": {
        "id": "ErFoXSqZUbC6"
      },
      "source": [
        ""
      ],
      "execution_count": null,
      "outputs": []
    },
    {
      "cell_type": "code",
      "metadata": {
        "id": "wZ7XaeQdF2N3"
      },
      "source": [
        ""
      ],
      "execution_count": null,
      "outputs": []
    },
    {
      "cell_type": "code",
      "metadata": {
        "id": "EyMhdDkAKKYO"
      },
      "source": [
        "model = Sequential()\n",
        "\n",
        "model.add(Conv2D(32, (3, 3), input_shape=(3, 150, 150)))\n",
        "model.add(Activation('relu'))\n",
        "model.add(MaxPooling2D(pool_size=(2, 2)))\n",
        "\n",
        "model.add(Conv2D(32, (3, 3), input_shape=(3, 150, 150)))\n",
        "model.add(Activation('relu'))\n",
        "model.add(MaxPooling2D(pool_size=(2, 2)))\n",
        "\n",
        "model.add(Conv2D(32, (3, 3), input_shape=(3, 150, 150)))\n",
        "model.add(Activation('relu'))\n",
        "model.add(MaxPooling2D(pool_size=(2, 2)))\n",
        "\n",
        "model.add(Conv2D(32, (3, 3), input_shape=(3, 150, 150)))\n",
        "model.add(Activation('relu'))\n",
        "\n",
        "\n",
        "model.add(Flatten())\n",
        "model.add(Dense(64))\n",
        "model.add(Activation('relu'))\n",
        "model.add(Dropout(0.5))\n",
        "model.add(Dense(1))\n",
        "model.add(Activation('softmax'))\n"
      ],
      "execution_count": null,
      "outputs": []
    },
    {
      "cell_type": "code",
      "metadata": {
        "id": "UV4yHE9mKSCa"
      },
      "source": [
        "train_datagen = ImageDataGenerator(\n",
        "        rescale=1./255,\n",
        "        shear_range=0.2,\n",
        "        zoom_range=0.2,\n",
        "        horizontal_flip=True)\n",
        "\n",
        "train_images = train_datagen.flow_from_directory(\n",
        "        '/content/drive/MyDrive/NNFL Assignment - 2/Datasets/Images',  # this is the target directory\n",
        "        target_size=(150, 150),  # all images will be resized to 150x150\n",
        "        batch_size=batch_size,\n",
        "        class_mode='binary')"
      ],
      "execution_count": null,
      "outputs": []
    },
    {
      "cell_type": "code",
      "metadata": {
        "id": "N-VQe-UGOSgy"
      },
      "source": [
        ""
      ],
      "execution_count": null,
      "outputs": []
    }
  ]
}