{
  "nbformat": 4,
  "nbformat_minor": 0,
  "metadata": {
    "colab": {
      "name": "Q2 (Polynomial Kernel)",
      "provenance": [],
      "collapsed_sections": []
    },
    "kernelspec": {
      "name": "python3",
      "display_name": "Python 3"
    }
  },
  "cells": [
    {
      "cell_type": "code",
      "metadata": {
        "id": "e_Oxl9l3VlYW"
      },
      "source": [
        "import numpy as np\n",
        "import pandas as pd\n",
        "import matplotlib.pyplot as plt"
      ],
      "execution_count": null,
      "outputs": []
    },
    {
      "cell_type": "code",
      "metadata": {
        "id": "dC84kXIfVvh-"
      },
      "source": [
        "path = '/content/drive/My Drive/NNFL Assignment - 2/Datasets/data55.xlsx'\n",
        "data = pd.read_excel(path, header = None)"
      ],
      "execution_count": null,
      "outputs": []
    },
    {
      "cell_type": "code",
      "metadata": {
        "id": "ZtHsB6w27rRV"
      },
      "source": [
        "# normalization\n",
        "def normalize(x):\n",
        "  xmean = np.mean(x, axis=0)\n",
        "  xstd = np.std(x)\n",
        "  ret = (x - xmean)/(xstd)  \n",
        "  return ret"
      ],
      "execution_count": null,
      "outputs": []
    },
    {
      "cell_type": "code",
      "metadata": {
        "id": "imByat-OQNX3"
      },
      "source": [
        "data = np.array(data)\n",
        "np.random.shuffle(data)\n",
        "N, M = data.shape\n",
        "ones = np.ones((N, 1))\n",
        "\n",
        "\n",
        "xnorm = data[:, :M-1]\n",
        "xnorm = normalize(xnorm)\n",
        "\n",
        "\n",
        "X = xnorm\n",
        "X = np.concatenate((ones, X), axis=1)\n",
        "Y = data[:, M-1:]\n",
        "\n",
        "\n",
        "for i in range(N):\n",
        "  if (Y[i][0] == 0):\n",
        "    Y[i][0] = -1\n",
        "\n",
        "\n",
        "train_size = int(0.7*N)\n",
        "validation_size = int(0.1*N)\n",
        "\n",
        "# training set\n",
        "trainX = X[:train_size, :]\n",
        "trainY = Y[:train_size, :]\n",
        "\n",
        "# validation set\n",
        "valX = X[train_size:train_size+validation_size, :]\n",
        "valY = Y[train_size:train_size+validation_size, :]\n",
        "\n",
        "# testing set\n",
        "testX = X[train_size+validation_size:, :]\n",
        "testY = Y[train_size+validation_size:, :]"
      ],
      "execution_count": null,
      "outputs": []
    },
    {
      "cell_type": "code",
      "metadata": {
        "colab": {
          "base_uri": "https://localhost:8080/"
        },
        "id": "ZR06qBDwLw04",
        "outputId": "e23aec76-040b-4331-a78f-8610a5c304bc"
      },
      "source": [
        "X.shape, Y.shape"
      ],
      "execution_count": null,
      "outputs": [
        {
          "output_type": "execute_result",
          "data": {
            "text/plain": [
              "((100, 5), (100, 1))"
            ]
          },
          "metadata": {
            "tags": []
          },
          "execution_count": 109
        }
      ]
    },
    {
      "cell_type": "code",
      "metadata": {
        "id": "shiaSE9HQzmF"
      },
      "source": [
        "def signum(Z):\n",
        "  return -1 if Z<0 else 1"
      ],
      "execution_count": null,
      "outputs": []
    },
    {
      "cell_type": "code",
      "metadata": {
        "id": "1KO_Dr7BSbV1"
      },
      "source": [
        "def kernel_func(x1, x2):\n",
        "  return np.dot(x1, x2.T)"
      ],
      "execution_count": null,
      "outputs": []
    },
    {
      "cell_type": "code",
      "metadata": {
        "id": "GZ93kGr4Ly3c"
      },
      "source": [
        "def KernelPerceptron(x, y):\n",
        "  features, examples = x.shape\n",
        "  alpha = np.zeros((1, examples))\n",
        "  w = np.zeros((1, features))\n",
        "\n",
        "\n",
        "  for i in range(examples):\n",
        "    yhat = 0\n",
        "    for j in range(examples):\n",
        "      kval = kernel_func(x[0][i], x[0][j])\n",
        "      yhat = yhat + alpha[0][j] * y[0][j] * kval\n",
        "    \n",
        "    yhat = signum(yhat)\n",
        "    if (yhat != y[0][i]):\n",
        "      alpha[0][i] = alpha[0][i] + 1\n",
        "\n",
        "\n",
        "  for i in range(examples):\n",
        "    w = w + alpha[0][i] * y[0][i] * x[:, i]\n",
        "\n",
        "  return w"
      ],
      "execution_count": null,
      "outputs": []
    },
    {
      "cell_type": "code",
      "metadata": {
        "id": "EcWSlqiR9doo"
      },
      "source": [
        "def activation(Z):\n",
        "  n, m = Z.shape\n",
        "  for i in range(n):\n",
        "    if (Z[0][i] < 0):\n",
        "      Z[0][i] = -1\n",
        "    else:\n",
        "      Z[0][i] = 1\n",
        "\n",
        "  return Z"
      ],
      "execution_count": null,
      "outputs": []
    },
    {
      "cell_type": "code",
      "metadata": {
        "id": "ybMu2Eoo05JV",
        "colab": {
          "base_uri": "https://localhost:8080/"
        },
        "outputId": "ff5142aa-813a-4632-d2a9-c2a4e960f63d"
      },
      "source": [
        "w = KernelPerceptron(trainX.T, trainY.T)\n",
        "y_testing = activation(np.dot(w, testX.T))\n",
        "y_validation = activation(np.dot(w, valX.T))\n",
        "\n",
        "\n",
        "n, m = y_testing.shape\n",
        "for i in range(m):\n",
        "  if (y_testing[0][i] >= 0.0):\n",
        "    y_testing[0][i] = 1.0\n",
        "  else:\n",
        "    y_testing[0][i] = -1.0\n",
        "\n",
        "\n",
        "n, m = y_validation.shape\n",
        "for i in range(m):\n",
        "  if (y_validation[0][i] >= 0.0):\n",
        "    y_validation[0][i] = 1.0\n",
        "  else:\n",
        "    y_validation[0][i] = -1.0\n",
        "\n",
        "\n",
        "truepos = 0\n",
        "trueneg = 0\n",
        "falsepos = 0\n",
        "falseneg = 0\n",
        "n, m = testY.shape\n",
        "\n",
        "\n",
        "for i in range(n):\n",
        "  if (y_testing[0][i] == testY[i][0]):\n",
        "    if (testY[i][0] == 1.0):\n",
        "      truepos = truepos + 1\n",
        "    else:\n",
        "      trueneg = trueneg + 1\n",
        "\n",
        "  else:\n",
        "    if (testY[i][0] == 1.0):\n",
        "      falseneg = falseneg + 1\n",
        "    else:\n",
        "      falsepos = falsepos + 1\n",
        "\n",
        "sensitivity = truepos / (truepos + falseneg)\n",
        "specificity = trueneg / (trueneg + falsepos)\n",
        "accuracy = (trueneg + truepos) / (trueneg + truepos + falseneg + falsepos)\n",
        "\n",
        "\n",
        "accuracy, specificity, sensitivity"
      ],
      "execution_count": null,
      "outputs": [
        {
          "output_type": "execute_result",
          "data": {
            "text/plain": [
              "(1.0, 1.0, 1.0)"
            ]
          },
          "metadata": {
            "tags": []
          },
          "execution_count": 119
        }
      ]
    },
    {
      "cell_type": "code",
      "metadata": {
        "id": "A4WR0RAS5WRX"
      },
      "source": [
        ""
      ],
      "execution_count": null,
      "outputs": []
    }
  ]
}