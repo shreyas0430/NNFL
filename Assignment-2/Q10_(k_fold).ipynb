{
  "nbformat": 4,
  "nbformat_minor": 0,
  "metadata": {
    "colab": {
      "name": "Q10 (k-fold)",
      "provenance": [],
      "collapsed_sections": []
    },
    "kernelspec": {
      "name": "python3",
      "display_name": "Python 3"
    },
    "accelerator": "GPU"
  },
  "cells": [
    {
      "cell_type": "code",
      "metadata": {
        "id": "2nhDNiHwHXVM"
      },
      "source": [
        "import tensorflow as tf\n",
        "\n",
        "from tensorflow import keras\n",
        "from keras.models import Sequential\n",
        "from keras.layers import Conv2D, MaxPooling2D\n",
        "from keras.layers import Activation, Dropout, Dense, Flatten\n",
        "from tensorflow.keras import activations\n",
        "from keras.preprocessing.image import ImageDataGenerator\n",
        "from keras.utils import to_categorical\n",
        "\n",
        "import numpy as np\n",
        "import pandas as pd\n",
        "from PIL import Image\n",
        "import matplotlib.pyplot as plt\n",
        "import cv2\n",
        "import os"
      ],
      "execution_count": null,
      "outputs": []
    },
    {
      "cell_type": "code",
      "metadata": {
        "id": "PRWawYMtIG24"
      },
      "source": [
        "def load_images_from_folder(folder, shape):\n",
        "  images = []\n",
        "  for filename in os.listdir(folder):\n",
        "    img = Image.open(folder + '/' + filename)\n",
        "    if img is not None:\n",
        "      img = img.resize(shape)\n",
        "      img = np.array(img)\n",
        "      images.append(img)\n",
        "\n",
        "  images = np.array(images)\n",
        "  return images"
      ],
      "execution_count": null,
      "outputs": []
    },
    {
      "cell_type": "code",
      "metadata": {
        "id": "Dp9VRghQIf0x"
      },
      "source": [
        "shape_of_img = (128, 128)\n",
        "path1 = '/content/drive/MyDrive/NNFL Assignment - 2/Datasets/Images/class1_images'\n",
        "im1 = load_images_from_folder(path1, shape_of_img)\n",
        "\n",
        "path2 = '/content/drive/MyDrive/NNFL Assignment - 2/Datasets/Images/class2_images'\n",
        "im2 = load_images_from_folder(path2, shape_of_img)\n",
        "\n",
        "path3 = '/content/drive/MyDrive/NNFL Assignment - 2/Datasets/Images/class3_images'\n",
        "im3 = load_images_from_folder(path3, shape_of_img)"
      ],
      "execution_count": null,
      "outputs": []
    },
    {
      "cell_type": "code",
      "metadata": {
        "id": "r3UbuMm3lImw"
      },
      "source": [
        "sz1 = im1.shape[0]\n",
        "sz2 = im2.shape[0]\n",
        "sz3 = im3.shape[0]\n",
        "\n",
        "\n",
        "for i in range(sz1):\n",
        "  im1[i][0][0][0] = 0.0\n",
        "\n",
        "for i in range(sz2):\n",
        "  im2[i][0][0][0] = 1.0\n",
        "\n",
        "for i in range(sz3):\n",
        "  im3[i][0][0][0] = 2.0\n",
        "\n",
        "X = np.concatenate([im1, im2, im3], axis=0)\n",
        "np.random.shuffle(X)"
      ],
      "execution_count": null,
      "outputs": []
    },
    {
      "cell_type": "code",
      "metadata": {
        "id": "llZZQ_JHpnEX"
      },
      "source": [
        "Y = []\n",
        "\n",
        "sz = X.shape[0]\n",
        "\n",
        "for i in range(sz):\n",
        "  Y.append(X[i][0][0][0])\n",
        "  X[i][0][0][0] = 255.0"
      ],
      "execution_count": null,
      "outputs": []
    },
    {
      "cell_type": "code",
      "metadata": {
        "id": "MChhptehpnHS"
      },
      "source": [
        "Y = np.array(Y).reshape(len(Y), 1)\n",
        "Y = to_categorical(Y, num_classes=3)"
      ],
      "execution_count": null,
      "outputs": []
    },
    {
      "cell_type": "code",
      "metadata": {
        "id": "8yrQD4sNJZRf"
      },
      "source": [
        "model = Sequential()\n",
        "\n",
        "model.add(Conv2D(filters = 8, kernel_size = 3, input_shape=(128, 128, 3), padding = \"same\"))\n",
        "model.add(MaxPooling2D(pool_size=(2, 2), strides=(1, 1), padding='same'))\n",
        "model.add(Activation('relu'))\n",
        "\n",
        "\n",
        "model.add(Conv2D(filters = 16, kernel_size = 3, padding = \"same\"))\n",
        "model.add(MaxPooling2D(pool_size=(2, 2), strides=(1, 1), padding='same'))\n",
        "model.add(Activation('relu'))\n",
        "\n",
        "\n",
        "model.add(Conv2D(filters = 32, kernel_size = 3, padding = \"same\"))\n",
        "model.add(MaxPooling2D(pool_size=(2, 2), strides=(1, 1), padding='same'))\n",
        "model.add(Activation('relu'))\n",
        "\n",
        "\n",
        "model.add(Conv2D(filters = 64, kernel_size = 3, padding = \"same\"))\n",
        "model.add(Flatten())\n",
        "\n",
        "\n",
        "model.add(Dense(128))\n",
        "model.add(Activation('relu'))\n",
        "\n",
        "\n",
        "model.add(Dense(64))\n",
        "model.add(Dropout(0.3))\n",
        "model.add(Activation('relu'))\n",
        "\n",
        "\n",
        "model.add(Dense(32))\n",
        "model.add(Activation('relu'))\n",
        "\n",
        "\n",
        "model.add(Dense(16))\n",
        "model.add(Dropout(0.3))\n",
        "model.add(Activation('relu'))\n",
        "\n",
        "\n",
        "model.add(Dense(3))\n",
        "model.add(Activation('softmax'))"
      ],
      "execution_count": null,
      "outputs": []
    },
    {
      "cell_type": "code",
      "metadata": {
        "colab": {
          "base_uri": "https://localhost:8080/"
        },
        "id": "Un3apRrtKB4V",
        "outputId": "99f80aa0-c0f3-4a8a-97d0-c25845c7b9bf"
      },
      "source": [
        "model.summary()"
      ],
      "execution_count": null,
      "outputs": [
        {
          "output_type": "stream",
          "text": [
            "Model: \"sequential_5\"\n",
            "_________________________________________________________________\n",
            "Layer (type)                 Output Shape              Param #   \n",
            "=================================================================\n",
            "conv2d_20 (Conv2D)           (None, 128, 128, 8)       224       \n",
            "_________________________________________________________________\n",
            "max_pooling2d_15 (MaxPooling (None, 128, 128, 8)       0         \n",
            "_________________________________________________________________\n",
            "activation_40 (Activation)   (None, 128, 128, 8)       0         \n",
            "_________________________________________________________________\n",
            "conv2d_21 (Conv2D)           (None, 128, 128, 16)      1168      \n",
            "_________________________________________________________________\n",
            "max_pooling2d_16 (MaxPooling (None, 128, 128, 16)      0         \n",
            "_________________________________________________________________\n",
            "activation_41 (Activation)   (None, 128, 128, 16)      0         \n",
            "_________________________________________________________________\n",
            "conv2d_22 (Conv2D)           (None, 128, 128, 32)      4640      \n",
            "_________________________________________________________________\n",
            "max_pooling2d_17 (MaxPooling (None, 128, 128, 32)      0         \n",
            "_________________________________________________________________\n",
            "activation_42 (Activation)   (None, 128, 128, 32)      0         \n",
            "_________________________________________________________________\n",
            "conv2d_23 (Conv2D)           (None, 128, 128, 64)      18496     \n",
            "_________________________________________________________________\n",
            "flatten_5 (Flatten)          (None, 1048576)           0         \n",
            "_________________________________________________________________\n",
            "dense_25 (Dense)             (None, 128)               134217856 \n",
            "_________________________________________________________________\n",
            "activation_43 (Activation)   (None, 128)               0         \n",
            "_________________________________________________________________\n",
            "dense_26 (Dense)             (None, 64)                8256      \n",
            "_________________________________________________________________\n",
            "dropout_10 (Dropout)         (None, 64)                0         \n",
            "_________________________________________________________________\n",
            "activation_44 (Activation)   (None, 64)                0         \n",
            "_________________________________________________________________\n",
            "dense_27 (Dense)             (None, 32)                2080      \n",
            "_________________________________________________________________\n",
            "activation_45 (Activation)   (None, 32)                0         \n",
            "_________________________________________________________________\n",
            "dense_28 (Dense)             (None, 16)                528       \n",
            "_________________________________________________________________\n",
            "dropout_11 (Dropout)         (None, 16)                0         \n",
            "_________________________________________________________________\n",
            "activation_46 (Activation)   (None, 16)                0         \n",
            "_________________________________________________________________\n",
            "dense_29 (Dense)             (None, 3)                 51        \n",
            "_________________________________________________________________\n",
            "activation_47 (Activation)   (None, 3)                 0         \n",
            "=================================================================\n",
            "Total params: 134,253,299\n",
            "Trainable params: 134,253,299\n",
            "Non-trainable params: 0\n",
            "_________________________________________________________________\n"
          ],
          "name": "stdout"
        }
      ]
    },
    {
      "cell_type": "code",
      "metadata": {
        "id": "3uXWRxCxKD9R"
      },
      "source": [
        "model.compile(optimizer = 'RMSprop',\n",
        "              loss='categorical_crossentropy',\n",
        "              metrics=['accuracy'])"
      ],
      "execution_count": null,
      "outputs": []
    },
    {
      "cell_type": "code",
      "metadata": {
        "colab": {
          "base_uri": "https://localhost:8080/"
        },
        "id": "POGqe4teKFun",
        "outputId": "899882b9-2e25-4b25-c982-3506ed17791b"
      },
      "source": [
        "k_for_kfold = 10\n",
        "size = int(X.shape[0] / k_for_kfold)\n",
        "start = 0\n",
        "end = size\n",
        "\n",
        "histories = []\n",
        "\n",
        "for kf in range(k_for_kfold):\n",
        "  \n",
        "  x = np.concatenate((X[:start, :], X[end:, :]), axis = 0)\n",
        "  y = np.concatenate((Y[:start, :], Y[end:, :]), axis=0)\n",
        "  tx = X[start:end, :]\n",
        "  ty = Y[start:end, :]\n",
        "  \n",
        "\n",
        "  print(\"Round: \" + str(kf+1) + \".....\", end = \" \")\n",
        "  hist = model.fit(x, y, epochs = 50, validation_data=(tx, ty), verbose = 0)\n",
        "  histories.append(hist)\n",
        "  print(\"Done!\")\n",
        "\n",
        "  start += size\n",
        "  end += size"
      ],
      "execution_count": null,
      "outputs": [
        {
          "output_type": "stream",
          "text": [
            "Round: 1..... Done!\n",
            "Round: 2..... Done!\n",
            "Round: 3..... Done!\n",
            "Round: 4..... Done!\n",
            "Round: 5..... Done!\n",
            "Round: 6..... Done!\n",
            "Round: 7..... Done!\n",
            "Round: 8..... Done!\n",
            "Round: 9..... Done!\n",
            "Round: 10..... Done!\n"
          ],
          "name": "stdout"
        }
      ]
    },
    {
      "cell_type": "code",
      "metadata": {
        "id": "PURJWgjuMa3X"
      },
      "source": [
        "def one_hot_to_int(y):\n",
        "  ret = []\n",
        "  n, m = y.shape\n",
        "  for i in range(n):\n",
        "    for j in range(m):\n",
        "      if (y[i][j] == 1.0):\n",
        "        ret.append(j+1)\n",
        "  \n",
        "  return ret"
      ],
      "execution_count": null,
      "outputs": []
    },
    {
      "cell_type": "code",
      "metadata": {
        "colab": {
          "base_uri": "https://localhost:8080/"
        },
        "id": "IDz0UtN6ML_M",
        "outputId": "2ee54222-5d3b-42c9-fc45-bf8b30b73171"
      },
      "source": [
        "y_pred = model.predict(X)\n",
        "y_pred = one_hot_to_int(y_pred)\n",
        "y = one_hot_to_int(Y)\n",
        "\n",
        "l = len(y)\n",
        "correct, wrong = 0, 0\n",
        "\n",
        "# overall accuracy\n",
        "for i in range(l):\n",
        "  if (y[i] == y_pred[i]):\n",
        "    correct += 1\n",
        "  else:\n",
        "    wrong += 1\n",
        "\n",
        "overall_accuracy = correct / (correct + wrong)\n",
        "print(\"Overall accuracy (in %): \" + str(overall_accuracy*100))"
      ],
      "execution_count": null,
      "outputs": [
        {
          "output_type": "stream",
          "text": [
            "Overall accuracy (in %): 100.0\n"
          ],
          "name": "stdout"
        }
      ]
    },
    {
      "cell_type": "code",
      "metadata": {
        "colab": {
          "base_uri": "https://localhost:8080/"
        },
        "id": "2LHJxvrZMNSs",
        "outputId": "7e341949-1c7f-47a8-d338-7dc4af37b426"
      },
      "source": [
        "# classwise accuracies\n",
        "classwise_acc = []\n",
        "\n",
        "for i in range(3):\n",
        "  correct, wrong = 0, 0\n",
        "  for j in range(l):\n",
        "    if (y[j] == i+1):\n",
        "      if (y_pred[j] == y[j]):\n",
        "        correct += 1\n",
        "      else:\n",
        "        wrong += 1\n",
        "\n",
        "  acc = correct / (correct + wrong)\n",
        "  classwise_acc.append(acc)\n",
        "\n",
        "print(\"Classwise accuracies:\")\n",
        "print(\"Class 1 accuracy (in %): \" + str(classwise_acc[0]*100))\n",
        "print(\"Class 2 accuracy (in %): \" + str(classwise_acc[1]*100))\n",
        "print(\"Class 3 accuracy (in %): \" + str(classwise_acc[2]*100))"
      ],
      "execution_count": null,
      "outputs": [
        {
          "output_type": "stream",
          "text": [
            "Classwise accuracies:\n",
            "Class 1 accuracy (in %): 100.0\n",
            "Class 2 accuracy (in %): 100.0\n",
            "Class 3 accuracy (in %): 100.0\n"
          ],
          "name": "stdout"
        }
      ]
    },
    {
      "cell_type": "code",
      "metadata": {
        "id": "49geySIqOd3Y"
      },
      "source": [
        ""
      ],
      "execution_count": null,
      "outputs": []
    }
  ]
}