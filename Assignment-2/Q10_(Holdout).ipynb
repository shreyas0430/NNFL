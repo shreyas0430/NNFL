{
  "nbformat": 4,
  "nbformat_minor": 0,
  "metadata": {
    "colab": {
      "name": "Q10 (Holdout)",
      "provenance": [],
      "collapsed_sections": []
    },
    "kernelspec": {
      "name": "python3",
      "display_name": "Python 3"
    },
    "accelerator": "GPU"
  },
  "cells": [
    {
      "cell_type": "code",
      "metadata": {
        "id": "wws8qyI48mHs"
      },
      "source": [
        "import tensorflow as tf\n",
        "\n",
        "from tensorflow import keras\n",
        "from keras.models import Sequential\n",
        "from keras.layers import Conv2D, MaxPooling2D\n",
        "from keras.layers import Activation, Dropout, Dense, Flatten\n",
        "from tensorflow.keras import activations\n",
        "from keras.preprocessing.image import ImageDataGenerator\n",
        "\n",
        "import numpy as np\n",
        "import pandas as pd\n",
        "import matplotlib.pyplot as plt"
      ],
      "execution_count": null,
      "outputs": []
    },
    {
      "cell_type": "code",
      "metadata": {
        "colab": {
          "base_uri": "https://localhost:8080/"
        },
        "id": "Yl9N8C2c8fIt",
        "outputId": "f365c1e3-af04-4abd-843a-411c05a275df"
      },
      "source": [
        "path = '/content/drive/MyDrive/NNFL Assignment - 2/Datasets/Images'\n",
        "\n",
        "datagen = ImageDataGenerator(rescale=1./255, validation_split=0.3)\n",
        "train_images = datagen.flow_from_directory(path, target_size=(128, 128), class_mode='categorical', subset = 'training')\n",
        "test_images = datagen.flow_from_directory(path, target_size=(128, 128), class_mode='categorical', subset = 'validation')"
      ],
      "execution_count": null,
      "outputs": [
        {
          "output_type": "stream",
          "text": [
            "Found 505 images belonging to 3 classes.\n",
            "Found 215 images belonging to 3 classes.\n"
          ],
          "name": "stdout"
        }
      ]
    },
    {
      "cell_type": "code",
      "metadata": {
        "id": "3UDu7E8TAvgi"
      },
      "source": [
        "model = Sequential()\n",
        "\n",
        "model.add(Conv2D(filters = 8, kernel_size = 3, input_shape=(128, 128, 3), padding = \"same\"))\n",
        "model.add(MaxPooling2D(pool_size=(2, 2), strides=(1, 1), padding='same'))\n",
        "model.add(Activation('relu'))\n",
        "\n",
        "\n",
        "model.add(Conv2D(filters = 16, kernel_size = 3, padding = \"same\"))\n",
        "model.add(MaxPooling2D(pool_size=(2, 2), strides=(1, 1), padding='same'))\n",
        "model.add(Activation('relu'))\n",
        "\n",
        "\n",
        "model.add(Conv2D(filters = 32, kernel_size = 3, padding = \"same\"))\n",
        "model.add(MaxPooling2D(pool_size=(2, 2), strides=(1, 1), padding='same'))\n",
        "model.add(Activation('relu'))\n",
        "\n",
        "\n",
        "model.add(Conv2D(filters = 64, kernel_size = 3, padding = \"same\"))\n",
        "model.add(Flatten())\n",
        "\n",
        "\n",
        "model.add(Dense(128))\n",
        "model.add(Activation('relu'))\n",
        "\n",
        "\n",
        "model.add(Dense(64))\n",
        "model.add(Dropout(0.3))\n",
        "model.add(Activation('relu'))\n",
        "\n",
        "\n",
        "model.add(Dense(32))\n",
        "model.add(Activation('relu'))\n",
        "\n",
        "\n",
        "model.add(Dense(16))\n",
        "model.add(Dropout(0.3))\n",
        "model.add(Activation('relu'))\n",
        "\n",
        "\n",
        "model.add(Dense(3))\n",
        "model.add(Activation('softmax'))"
      ],
      "execution_count": null,
      "outputs": []
    },
    {
      "cell_type": "code",
      "metadata": {
        "colab": {
          "base_uri": "https://localhost:8080/"
        },
        "id": "aOtoekpuDeB3",
        "outputId": "cdd988fd-7c3b-4c2a-d684-ff2c29aeb8a8"
      },
      "source": [
        "model.summary()"
      ],
      "execution_count": null,
      "outputs": [
        {
          "output_type": "stream",
          "text": [
            "Model: \"sequential_1\"\n",
            "_________________________________________________________________\n",
            "Layer (type)                 Output Shape              Param #   \n",
            "=================================================================\n",
            "conv2d_4 (Conv2D)            (None, 128, 128, 8)       224       \n",
            "_________________________________________________________________\n",
            "max_pooling2d_3 (MaxPooling2 (None, 128, 128, 8)       0         \n",
            "_________________________________________________________________\n",
            "activation_8 (Activation)    (None, 128, 128, 8)       0         \n",
            "_________________________________________________________________\n",
            "conv2d_5 (Conv2D)            (None, 128, 128, 16)      1168      \n",
            "_________________________________________________________________\n",
            "max_pooling2d_4 (MaxPooling2 (None, 128, 128, 16)      0         \n",
            "_________________________________________________________________\n",
            "activation_9 (Activation)    (None, 128, 128, 16)      0         \n",
            "_________________________________________________________________\n",
            "conv2d_6 (Conv2D)            (None, 128, 128, 32)      4640      \n",
            "_________________________________________________________________\n",
            "max_pooling2d_5 (MaxPooling2 (None, 128, 128, 32)      0         \n",
            "_________________________________________________________________\n",
            "activation_10 (Activation)   (None, 128, 128, 32)      0         \n",
            "_________________________________________________________________\n",
            "conv2d_7 (Conv2D)            (None, 128, 128, 64)      18496     \n",
            "_________________________________________________________________\n",
            "flatten_1 (Flatten)          (None, 1048576)           0         \n",
            "_________________________________________________________________\n",
            "dense_5 (Dense)              (None, 128)               134217856 \n",
            "_________________________________________________________________\n",
            "activation_11 (Activation)   (None, 128)               0         \n",
            "_________________________________________________________________\n",
            "dense_6 (Dense)              (None, 64)                8256      \n",
            "_________________________________________________________________\n",
            "dropout_2 (Dropout)          (None, 64)                0         \n",
            "_________________________________________________________________\n",
            "activation_12 (Activation)   (None, 64)                0         \n",
            "_________________________________________________________________\n",
            "dense_7 (Dense)              (None, 32)                2080      \n",
            "_________________________________________________________________\n",
            "activation_13 (Activation)   (None, 32)                0         \n",
            "_________________________________________________________________\n",
            "dense_8 (Dense)              (None, 16)                528       \n",
            "_________________________________________________________________\n",
            "dropout_3 (Dropout)          (None, 16)                0         \n",
            "_________________________________________________________________\n",
            "activation_14 (Activation)   (None, 16)                0         \n",
            "_________________________________________________________________\n",
            "dense_9 (Dense)              (None, 3)                 51        \n",
            "_________________________________________________________________\n",
            "activation_15 (Activation)   (None, 3)                 0         \n",
            "=================================================================\n",
            "Total params: 134,253,299\n",
            "Trainable params: 134,253,299\n",
            "Non-trainable params: 0\n",
            "_________________________________________________________________\n"
          ],
          "name": "stdout"
        }
      ]
    },
    {
      "cell_type": "code",
      "metadata": {
        "id": "w0VZAQUN8zAF"
      },
      "source": [
        "model.compile(optimizer='adam',\n",
        "              loss='categorical_crossentropy',\n",
        "              metrics=['accuracy'])"
      ],
      "execution_count": null,
      "outputs": []
    },
    {
      "cell_type": "code",
      "metadata": {
        "colab": {
          "base_uri": "https://localhost:8080/"
        },
        "id": "0W-N_ilf8zG9",
        "outputId": "1bead0f2-916f-4383-b03d-cca69a7e940d"
      },
      "source": [
        "history = model.fit(train_images, epochs = 10, batch_size = 4, validation_data=test_images)"
      ],
      "execution_count": null,
      "outputs": [
        {
          "output_type": "stream",
          "text": [
            "Epoch 1/10\n",
            "16/16 [==============================] - 9s 539ms/step - loss: 10.4531 - accuracy: 0.3327 - val_loss: 1.0625 - val_accuracy: 0.4419\n",
            "Epoch 2/10\n",
            "16/16 [==============================] - 8s 491ms/step - loss: 1.1833 - accuracy: 0.4416 - val_loss: 0.9667 - val_accuracy: 0.4372\n",
            "Epoch 3/10\n",
            "16/16 [==============================] - 8s 491ms/step - loss: 0.9032 - accuracy: 0.5545 - val_loss: 0.7063 - val_accuracy: 0.9721\n",
            "Epoch 4/10\n",
            "16/16 [==============================] - 8s 493ms/step - loss: 0.6253 - accuracy: 0.7188 - val_loss: 0.3660 - val_accuracy: 0.9814\n",
            "Epoch 5/10\n",
            "16/16 [==============================] - 8s 495ms/step - loss: 0.4372 - accuracy: 0.8000 - val_loss: 0.2907 - val_accuracy: 0.9767\n",
            "Epoch 6/10\n",
            "16/16 [==============================] - 8s 492ms/step - loss: 0.3565 - accuracy: 0.8119 - val_loss: 0.1424 - val_accuracy: 0.9907\n",
            "Epoch 7/10\n",
            "16/16 [==============================] - 8s 491ms/step - loss: 0.2745 - accuracy: 0.8653 - val_loss: 0.0628 - val_accuracy: 0.9907\n",
            "Epoch 8/10\n",
            "16/16 [==============================] - 8s 492ms/step - loss: 0.2056 - accuracy: 0.8950 - val_loss: 0.0799 - val_accuracy: 0.9860\n",
            "Epoch 9/10\n",
            "16/16 [==============================] - 8s 488ms/step - loss: 0.1507 - accuracy: 0.9465 - val_loss: 0.0624 - val_accuracy: 0.9860\n",
            "Epoch 10/10\n",
            "16/16 [==============================] - 8s 493ms/step - loss: 0.1709 - accuracy: 0.9406 - val_loss: 0.0725 - val_accuracy: 0.9860\n"
          ],
          "name": "stdout"
        }
      ]
    },
    {
      "cell_type": "code",
      "metadata": {
        "colab": {
          "base_uri": "https://localhost:8080/"
        },
        "id": "hl8dDofq8zFh",
        "outputId": "406a85d5-cf80-4014-87ec-34dbd1ff8cc4"
      },
      "source": [
        "print(\"Overall accuracy(in %): \" + str(history.history['accuracy'][-1]*100))\n",
        "print(\"Validation accuracy(in %): \" + str(history.history['val_accuracy'][-1]*100))"
      ],
      "execution_count": null,
      "outputs": [
        {
          "output_type": "stream",
          "text": [
            "Overall accuracy(in %): 94.05940771102905\n",
            "Validation accuracy(in %): 98.60464930534363\n"
          ],
          "name": "stdout"
        }
      ]
    },
    {
      "cell_type": "code",
      "metadata": {
        "id": "4KMCpxOvrwQN"
      },
      "source": [
        ""
      ],
      "execution_count": null,
      "outputs": []
    }
  ]
}