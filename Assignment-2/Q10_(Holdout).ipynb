{
  "nbformat": 4,
  "nbformat_minor": 0,
  "metadata": {
    "colab": {
      "name": "Q10 (Holdout)",
      "provenance": [],
      "collapsed_sections": []
    },
    "kernelspec": {
      "name": "python3",
      "display_name": "Python 3"
    },
    "accelerator": "GPU"
  },
  "cells": [
    {
      "cell_type": "code",
      "metadata": {
        "id": "wws8qyI48mHs"
      },
      "source": [
        "import tensorflow as tf\n",
        "\n",
        "from tensorflow import keras\n",
        "from keras.models import Sequential\n",
        "from keras.layers import Conv2D, MaxPooling2D\n",
        "from keras.layers import Activation, Dropout, Dense, Flatten\n",
        "from tensorflow.keras import activations\n",
        "from keras.preprocessing.image import ImageDataGenerator\n",
        "\n",
        "import numpy as np\n",
        "import pandas as pd\n",
        "import matplotlib.pyplot as plt"
      ],
      "execution_count": 1,
      "outputs": []
    },
    {
      "cell_type": "code",
      "metadata": {
        "colab": {
          "base_uri": "https://localhost:8080/"
        },
        "id": "Yl9N8C2c8fIt",
        "outputId": "b7588fec-c9bf-4a79-ae37-b58c72af9ecd"
      },
      "source": [
        "path = '/content/drive/MyDrive/NNFL Assignment - 2/Datasets/Images'\n",
        "\n",
        "datagen = ImageDataGenerator(rescale=1./255, validation_split=0.3)\n",
        "train_images = datagen.flow_from_directory(path, target_size=(128, 128), class_mode='categorical', subset = 'training')\n",
        "test_images = datagen.flow_from_directory(path, target_size=(128, 128), class_mode='categorical', subset = 'validation')"
      ],
      "execution_count": 2,
      "outputs": [
        {
          "output_type": "stream",
          "text": [
            "Found 505 images belonging to 3 classes.\n",
            "Found 215 images belonging to 3 classes.\n"
          ],
          "name": "stdout"
        }
      ]
    },
    {
      "cell_type": "code",
      "metadata": {
        "id": "3UDu7E8TAvgi"
      },
      "source": [
        "model = Sequential()\n",
        "\n",
        "model.add(Conv2D(filters = 8, kernel_size = 3, input_shape=(128, 128, 3), padding = \"same\"))\n",
        "model.add(MaxPooling2D(pool_size=(2, 2), strides=(1, 1), padding='same'))\n",
        "model.add(Activation('relu'))\n",
        "\n",
        "\n",
        "model.add(Conv2D(filters = 16, kernel_size = 3, padding = \"same\"))\n",
        "model.add(MaxPooling2D(pool_size=(2, 2), strides=(1, 1), padding='same'))\n",
        "model.add(Activation('relu'))\n",
        "\n",
        "\n",
        "model.add(Conv2D(filters = 32, kernel_size = 3, padding = \"same\"))\n",
        "model.add(MaxPooling2D(pool_size=(2, 2), strides=(1, 1), padding='same'))\n",
        "model.add(Activation('relu'))\n",
        "\n",
        "\n",
        "model.add(Conv2D(filters = 64, kernel_size = 3, padding = \"same\"))\n",
        "model.add(Flatten())\n",
        "\n",
        "\n",
        "model.add(Dense(128))\n",
        "model.add(Activation('relu'))\n",
        "\n",
        "\n",
        "model.add(Dense(64))\n",
        "model.add(Dropout(0.3))\n",
        "model.add(Activation('relu'))\n",
        "\n",
        "\n",
        "model.add(Dense(32))\n",
        "model.add(Activation('relu'))\n",
        "\n",
        "\n",
        "model.add(Dense(16))\n",
        "model.add(Dropout(0.3))\n",
        "model.add(Activation('relu'))\n",
        "\n",
        "\n",
        "model.add(Dense(3))\n",
        "model.add(Activation('softmax'))"
      ],
      "execution_count": 3,
      "outputs": []
    },
    {
      "cell_type": "code",
      "metadata": {
        "colab": {
          "base_uri": "https://localhost:8080/"
        },
        "id": "aOtoekpuDeB3",
        "outputId": "a4259357-ac9b-4042-840c-20251388eff3"
      },
      "source": [
        "model.summary()"
      ],
      "execution_count": 4,
      "outputs": [
        {
          "output_type": "stream",
          "text": [
            "Model: \"sequential\"\n",
            "_________________________________________________________________\n",
            "Layer (type)                 Output Shape              Param #   \n",
            "=================================================================\n",
            "conv2d (Conv2D)              (None, 128, 128, 8)       224       \n",
            "_________________________________________________________________\n",
            "max_pooling2d (MaxPooling2D) (None, 128, 128, 8)       0         \n",
            "_________________________________________________________________\n",
            "activation (Activation)      (None, 128, 128, 8)       0         \n",
            "_________________________________________________________________\n",
            "conv2d_1 (Conv2D)            (None, 128, 128, 16)      1168      \n",
            "_________________________________________________________________\n",
            "max_pooling2d_1 (MaxPooling2 (None, 128, 128, 16)      0         \n",
            "_________________________________________________________________\n",
            "activation_1 (Activation)    (None, 128, 128, 16)      0         \n",
            "_________________________________________________________________\n",
            "conv2d_2 (Conv2D)            (None, 128, 128, 32)      4640      \n",
            "_________________________________________________________________\n",
            "max_pooling2d_2 (MaxPooling2 (None, 128, 128, 32)      0         \n",
            "_________________________________________________________________\n",
            "activation_2 (Activation)    (None, 128, 128, 32)      0         \n",
            "_________________________________________________________________\n",
            "conv2d_3 (Conv2D)            (None, 128, 128, 64)      18496     \n",
            "_________________________________________________________________\n",
            "flatten (Flatten)            (None, 1048576)           0         \n",
            "_________________________________________________________________\n",
            "dense (Dense)                (None, 128)               134217856 \n",
            "_________________________________________________________________\n",
            "activation_3 (Activation)    (None, 128)               0         \n",
            "_________________________________________________________________\n",
            "dense_1 (Dense)              (None, 64)                8256      \n",
            "_________________________________________________________________\n",
            "dropout (Dropout)            (None, 64)                0         \n",
            "_________________________________________________________________\n",
            "activation_4 (Activation)    (None, 64)                0         \n",
            "_________________________________________________________________\n",
            "dense_2 (Dense)              (None, 32)                2080      \n",
            "_________________________________________________________________\n",
            "activation_5 (Activation)    (None, 32)                0         \n",
            "_________________________________________________________________\n",
            "dense_3 (Dense)              (None, 16)                528       \n",
            "_________________________________________________________________\n",
            "dropout_1 (Dropout)          (None, 16)                0         \n",
            "_________________________________________________________________\n",
            "activation_6 (Activation)    (None, 16)                0         \n",
            "_________________________________________________________________\n",
            "dense_4 (Dense)              (None, 3)                 51        \n",
            "_________________________________________________________________\n",
            "activation_7 (Activation)    (None, 3)                 0         \n",
            "=================================================================\n",
            "Total params: 134,253,299\n",
            "Trainable params: 134,253,299\n",
            "Non-trainable params: 0\n",
            "_________________________________________________________________\n"
          ],
          "name": "stdout"
        }
      ]
    },
    {
      "cell_type": "code",
      "metadata": {
        "id": "w0VZAQUN8zAF"
      },
      "source": [
        "model.compile(optimizer='adam',\n",
        "              loss='categorical_crossentropy',\n",
        "              metrics=['accuracy'])"
      ],
      "execution_count": 5,
      "outputs": []
    },
    {
      "cell_type": "code",
      "metadata": {
        "colab": {
          "base_uri": "https://localhost:8080/"
        },
        "id": "0W-N_ilf8zG9",
        "outputId": "70f5c952-5317-46b3-e5d1-5751058c29d6"
      },
      "source": [
        "history = model.fit(train_images, epochs = 30, batch_size = 4, validation_data=test_images)"
      ],
      "execution_count": 6,
      "outputs": [
        {
          "output_type": "stream",
          "text": [
            "Epoch 1/30\n",
            "16/16 [==============================] - 395s 25s/step - loss: 6.9447 - accuracy: 0.2871 - val_loss: 1.1469 - val_accuracy: 0.3302\n",
            "Epoch 2/30\n",
            "16/16 [==============================] - 8s 471ms/step - loss: 1.5153 - accuracy: 0.3267 - val_loss: 1.1031 - val_accuracy: 0.3209\n",
            "Epoch 3/30\n",
            "16/16 [==============================] - 7s 466ms/step - loss: 1.1767 - accuracy: 0.3366 - val_loss: 1.1091 - val_accuracy: 0.2419\n",
            "Epoch 4/30\n",
            "16/16 [==============================] - 8s 470ms/step - loss: 1.1501 - accuracy: 0.3208 - val_loss: 1.1047 - val_accuracy: 0.3302\n",
            "Epoch 5/30\n",
            "16/16 [==============================] - 8s 470ms/step - loss: 1.1010 - accuracy: 0.3762 - val_loss: 1.0939 - val_accuracy: 0.3488\n",
            "Epoch 6/30\n",
            "16/16 [==============================] - 7s 464ms/step - loss: 1.0719 - accuracy: 0.3960 - val_loss: 1.0365 - val_accuracy: 0.5907\n",
            "Epoch 7/30\n",
            "16/16 [==============================] - 7s 464ms/step - loss: 0.9249 - accuracy: 0.5505 - val_loss: 0.7663 - val_accuracy: 0.9581\n",
            "Epoch 8/30\n",
            "16/16 [==============================] - 7s 455ms/step - loss: 0.6881 - accuracy: 0.6832 - val_loss: 0.4813 - val_accuracy: 0.8465\n",
            "Epoch 9/30\n",
            "16/16 [==============================] - 8s 489ms/step - loss: 0.5025 - accuracy: 0.7703 - val_loss: 0.3503 - val_accuracy: 0.9256\n",
            "Epoch 10/30\n",
            "16/16 [==============================] - 7s 467ms/step - loss: 0.3041 - accuracy: 0.8891 - val_loss: 0.2595 - val_accuracy: 0.9535\n",
            "Epoch 11/30\n",
            "16/16 [==============================] - 7s 457ms/step - loss: 0.1761 - accuracy: 0.9287 - val_loss: 0.0809 - val_accuracy: 0.9953\n",
            "Epoch 12/30\n",
            "16/16 [==============================] - 7s 452ms/step - loss: 0.1071 - accuracy: 0.9604 - val_loss: 0.0850 - val_accuracy: 0.9767\n",
            "Epoch 13/30\n",
            "16/16 [==============================] - 7s 449ms/step - loss: 0.0713 - accuracy: 0.9762 - val_loss: 0.0604 - val_accuracy: 0.9907\n",
            "Epoch 14/30\n",
            "16/16 [==============================] - 7s 455ms/step - loss: 0.0511 - accuracy: 0.9822 - val_loss: 0.0705 - val_accuracy: 0.9907\n",
            "Epoch 15/30\n",
            "16/16 [==============================] - 7s 452ms/step - loss: 0.0849 - accuracy: 0.9604 - val_loss: 0.0516 - val_accuracy: 0.9860\n",
            "Epoch 16/30\n",
            "16/16 [==============================] - 7s 453ms/step - loss: 0.0356 - accuracy: 0.9901 - val_loss: 0.0672 - val_accuracy: 0.9860\n",
            "Epoch 17/30\n",
            "16/16 [==============================] - 7s 462ms/step - loss: 0.0364 - accuracy: 0.9842 - val_loss: 0.0905 - val_accuracy: 0.9860\n",
            "Epoch 18/30\n",
            "16/16 [==============================] - 7s 458ms/step - loss: 0.0193 - accuracy: 0.9921 - val_loss: 0.0888 - val_accuracy: 0.9860\n",
            "Epoch 19/30\n",
            "16/16 [==============================] - 7s 456ms/step - loss: 0.0264 - accuracy: 0.9881 - val_loss: 0.1551 - val_accuracy: 0.9860\n",
            "Epoch 20/30\n",
            "16/16 [==============================] - 7s 454ms/step - loss: 0.0207 - accuracy: 0.9901 - val_loss: 0.0800 - val_accuracy: 0.9860\n",
            "Epoch 21/30\n",
            "16/16 [==============================] - 7s 458ms/step - loss: 0.0329 - accuracy: 0.9802 - val_loss: 0.0812 - val_accuracy: 0.9860\n",
            "Epoch 22/30\n",
            "16/16 [==============================] - 7s 462ms/step - loss: 0.0184 - accuracy: 0.9921 - val_loss: 0.0839 - val_accuracy: 0.9907\n",
            "Epoch 23/30\n",
            "16/16 [==============================] - 7s 458ms/step - loss: 0.0196 - accuracy: 0.9921 - val_loss: 0.0991 - val_accuracy: 0.9907\n",
            "Epoch 24/30\n",
            "16/16 [==============================] - 7s 456ms/step - loss: 0.0173 - accuracy: 0.9921 - val_loss: 0.0900 - val_accuracy: 0.9907\n",
            "Epoch 25/30\n",
            "16/16 [==============================] - 7s 460ms/step - loss: 0.0192 - accuracy: 0.9941 - val_loss: 0.0753 - val_accuracy: 0.9907\n",
            "Epoch 26/30\n",
            "16/16 [==============================] - 7s 453ms/step - loss: 0.0193 - accuracy: 0.9881 - val_loss: 0.0843 - val_accuracy: 0.9907\n",
            "Epoch 27/30\n",
            "16/16 [==============================] - 7s 453ms/step - loss: 0.0224 - accuracy: 0.9861 - val_loss: 0.1047 - val_accuracy: 0.9907\n",
            "Epoch 28/30\n",
            "16/16 [==============================] - 7s 449ms/step - loss: 0.0170 - accuracy: 0.9921 - val_loss: 0.1154 - val_accuracy: 0.9907\n",
            "Epoch 29/30\n",
            "16/16 [==============================] - 7s 451ms/step - loss: 0.0089 - accuracy: 0.9941 - val_loss: 0.1274 - val_accuracy: 0.9907\n",
            "Epoch 30/30\n",
            "16/16 [==============================] - 7s 447ms/step - loss: 0.0260 - accuracy: 0.9822 - val_loss: 0.1212 - val_accuracy: 0.9907\n"
          ],
          "name": "stdout"
        }
      ]
    },
    {
      "cell_type": "code",
      "metadata": {
        "colab": {
          "base_uri": "https://localhost:8080/"
        },
        "id": "hl8dDofq8zFh",
        "outputId": "56f5b6f1-397b-4fcb-d485-a1bfa3c1da6f"
      },
      "source": [
        "print(\"Overall accuracy(in %): \" + str(history.history['accuracy'][-1]*100))\n",
        "print(\"Validation accuracy(in %): \" + str(history.history['val_accuracy'][-1]*100))"
      ],
      "execution_count": 7,
      "outputs": [
        {
          "output_type": "stream",
          "text": [
            "Overall accuracy(in %): 98.21782112121582\n",
            "Validation accuracy(in %): 99.06976819038391\n"
          ],
          "name": "stdout"
        }
      ]
    },
    {
      "cell_type": "code",
      "metadata": {
        "id": "4KMCpxOvrwQN"
      },
      "source": [
        ""
      ],
      "execution_count": null,
      "outputs": []
    }
  ]
}