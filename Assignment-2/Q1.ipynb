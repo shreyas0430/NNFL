{
  "nbformat": 4,
  "nbformat_minor": 0,
  "metadata": {
    "colab": {
      "name": "Q1",
      "provenance": [],
      "collapsed_sections": []
    },
    "kernelspec": {
      "name": "python3",
      "display_name": "Python 3"
    }
  },
  "cells": [
    {
      "cell_type": "code",
      "metadata": {
        "id": "qvGr4a-QATRv"
      },
      "source": [
        "import numpy as np\n",
        "import pandas as pd\n",
        "import matplotlib.pyplot as plt"
      ],
      "execution_count": null,
      "outputs": []
    },
    {
      "cell_type": "code",
      "metadata": {
        "id": "iePpiKjsCj6f",
        "colab": {
          "base_uri": "https://localhost:8080/",
          "height": 204
        },
        "outputId": "8d03887f-5a5b-4286-b76e-36429a50255f"
      },
      "source": [
        "path = '/content/drive/My Drive/NNFL Assignment - 2/Datasets/data55.xlsx'\n",
        "data = pd.read_excel(path, header = None)\n",
        "data.head()"
      ],
      "execution_count": null,
      "outputs": [
        {
          "output_type": "execute_result",
          "data": {
            "text/html": [
              "<div>\n",
              "<style scoped>\n",
              "    .dataframe tbody tr th:only-of-type {\n",
              "        vertical-align: middle;\n",
              "    }\n",
              "\n",
              "    .dataframe tbody tr th {\n",
              "        vertical-align: top;\n",
              "    }\n",
              "\n",
              "    .dataframe thead th {\n",
              "        text-align: right;\n",
              "    }\n",
              "</style>\n",
              "<table border=\"1\" class=\"dataframe\">\n",
              "  <thead>\n",
              "    <tr style=\"text-align: right;\">\n",
              "      <th></th>\n",
              "      <th>0</th>\n",
              "      <th>1</th>\n",
              "      <th>2</th>\n",
              "      <th>3</th>\n",
              "      <th>4</th>\n",
              "    </tr>\n",
              "  </thead>\n",
              "  <tbody>\n",
              "    <tr>\n",
              "      <th>0</th>\n",
              "      <td>5.1</td>\n",
              "      <td>3.5</td>\n",
              "      <td>1.4</td>\n",
              "      <td>0.2</td>\n",
              "      <td>0</td>\n",
              "    </tr>\n",
              "    <tr>\n",
              "      <th>1</th>\n",
              "      <td>4.9</td>\n",
              "      <td>3.0</td>\n",
              "      <td>1.4</td>\n",
              "      <td>0.2</td>\n",
              "      <td>0</td>\n",
              "    </tr>\n",
              "    <tr>\n",
              "      <th>2</th>\n",
              "      <td>4.7</td>\n",
              "      <td>3.2</td>\n",
              "      <td>1.3</td>\n",
              "      <td>0.2</td>\n",
              "      <td>0</td>\n",
              "    </tr>\n",
              "    <tr>\n",
              "      <th>3</th>\n",
              "      <td>4.6</td>\n",
              "      <td>3.1</td>\n",
              "      <td>1.5</td>\n",
              "      <td>0.2</td>\n",
              "      <td>0</td>\n",
              "    </tr>\n",
              "    <tr>\n",
              "      <th>4</th>\n",
              "      <td>5.0</td>\n",
              "      <td>3.6</td>\n",
              "      <td>1.4</td>\n",
              "      <td>0.2</td>\n",
              "      <td>0</td>\n",
              "    </tr>\n",
              "  </tbody>\n",
              "</table>\n",
              "</div>"
            ],
            "text/plain": [
              "     0    1    2    3  4\n",
              "0  5.1  3.5  1.4  0.2  0\n",
              "1  4.9  3.0  1.4  0.2  0\n",
              "2  4.7  3.2  1.3  0.2  0\n",
              "3  4.6  3.1  1.5  0.2  0\n",
              "4  5.0  3.6  1.4  0.2  0"
            ]
          },
          "metadata": {
            "tags": []
          },
          "execution_count": 223
        }
      ]
    },
    {
      "cell_type": "code",
      "metadata": {
        "id": "7MTqoUbr1Phn"
      },
      "source": [
        "data = np.array(data)\n",
        "np.random.shuffle(data)\n",
        "N, M = data.shape\n",
        "ones = np.ones((N, 1))\n",
        "data = np.concatenate((ones, data[:, :M]), axis=1)\n",
        "\n",
        "N, M = data.shape\n",
        "X = data[:, :M-1]\n",
        "Y = data[:, M-1:]\n",
        "\n",
        "train_size = int(0.7*N)\n",
        "validation_size = int(0.1*N)\n",
        "\n",
        "# training set\n",
        "trainX = X[:train_size, :]\n",
        "trainY = Y[:train_size, :]\n",
        "\n",
        "# validation set\n",
        "valX = X[train_size:train_size+validation_size, :]\n",
        "valY = Y[train_size:train_size+validation_size, :]\n",
        "\n",
        "# testing set\n",
        "testX = X[train_size+validation_size:, :]\n",
        "testY = Y[train_size+validation_size:, :]"
      ],
      "execution_count": null,
      "outputs": []
    },
    {
      "cell_type": "code",
      "metadata": {
        "id": "B28pFjZH7YmX"
      },
      "source": [
        "def activation(Z):\n",
        "  Z = 1 / (1 + np.exp(-Z))\n",
        "  return Z"
      ],
      "execution_count": null,
      "outputs": []
    },
    {
      "cell_type": "code",
      "metadata": {
        "id": "jo-E99HT2cRo"
      },
      "source": [
        "def each_iteration(w, x, y, lr):\n",
        "  y_res = activation(np.dot(w, x))\n",
        "\n",
        "  features, examples = x.shape\n",
        "  for i in range(examples):\n",
        "\n",
        "    # t = max(0, y_res[0][i])\n",
        "    t = 0.0\n",
        "    if (y_res[0][i] < 0.5):\n",
        "      t = 0.0\n",
        "    else:\n",
        "      t = 1.0\n",
        "\n",
        "    if (t != y[0][i]):\n",
        "      for j in range(features):\n",
        "        w[0][j] = w[0][j] + lr*y[0][j]*x[j][i]\n",
        "\n",
        "  return w"
      ],
      "execution_count": null,
      "outputs": []
    },
    {
      "cell_type": "code",
      "metadata": {
        "id": "lHWhmT8GQ_Py"
      },
      "source": [
        "def perceptron(x, y, lr, iter):\n",
        "  m = x.shape[0]\n",
        "  n = y.shape[0]\n",
        "  w = np.random.randn(n, m)\n",
        "\n",
        "  for i in range(iter):\n",
        "    w = each_iteration(w, x, y, lr)\n",
        "\n",
        "  return w"
      ],
      "execution_count": null,
      "outputs": []
    },
    {
      "cell_type": "code",
      "metadata": {
        "colab": {
          "base_uri": "https://localhost:8080/"
        },
        "id": "HneS5lUmTNf1",
        "outputId": "c299753c-7b7d-4a4e-a409-5635cd3ea4ef"
      },
      "source": [
        "lr = 1e-4\n",
        "iter = 1000\n",
        "w = perceptron(trainX.T, trainY.T, lr, iter)\n",
        "\n",
        "y_testing = activation(np.dot(w, testX.T))\n",
        "y_validation = activation(np.dot(w, valX.T))\n",
        "\n",
        "\n",
        "n, m = y_testing.shape\n",
        "for i in range(m):\n",
        "  if (y_testing[0][i] >= 0.5):\n",
        "    y_testing[0][i] = 1.0\n",
        "  else:\n",
        "    y_testing[0][i] = 0.0\n",
        "\n",
        "\n",
        "n, m = y_validation.shape\n",
        "for i in range(m):\n",
        "  if (y_validation[0][i] >= 0.5):\n",
        "    y_validation[0][i] = 1.0\n",
        "  else:\n",
        "    y_validation[0][i] = 0.0\n",
        "\n",
        "\n",
        "truepos = 0\n",
        "trueneg = 0\n",
        "falsepos = 0\n",
        "falseneg = 0\n",
        "n, m = testY.shape\n",
        "\n",
        "\n",
        "for i in range(n):\n",
        "  if (y_testing[0][i] == testY[i][0]):\n",
        "    if (testY[i][0] == 1.0):\n",
        "      truepos = truepos + 1\n",
        "    else:\n",
        "      trueneg = trueneg + 1\n",
        "\n",
        "  else:\n",
        "    if (testY[i][0] == 1.0):\n",
        "      falseneg = falseneg + 1\n",
        "    else:\n",
        "      falsepos = falsepos + 1\n",
        "\n",
        "sensitivity = truepos / (truepos + falseneg)\n",
        "specificity = trueneg / (trueneg + falsepos)\n",
        "accuracy = (trueneg + truepos) / (trueneg + truepos + falseneg + falsepos)\n",
        "\n",
        "\n",
        "accuracy, specificity, sensitivity"
      ],
      "execution_count": null,
      "outputs": [
        {
          "output_type": "execute_result",
          "data": {
            "text/plain": [
              "(1.0, 1.0, 1.0)"
            ]
          },
          "metadata": {
            "tags": []
          },
          "execution_count": 228
        }
      ]
    },
    {
      "cell_type": "code",
      "metadata": {
        "id": "njTWnCdOOT6J"
      },
      "source": [
        ""
      ],
      "execution_count": null,
      "outputs": []
    }
  ]
}